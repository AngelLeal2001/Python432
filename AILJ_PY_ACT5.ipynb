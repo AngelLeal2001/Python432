{
  "nbformat": 4,
  "nbformat_minor": 0,
  "metadata": {
    "colab": {
      "provenance": [],
      "authorship_tag": "ABX9TyORq7JN9vp8MbSxhzhBmh/L",
      "include_colab_link": true
    },
    "kernelspec": {
      "name": "python3",
      "display_name": "Python 3"
    },
    "language_info": {
      "name": "python"
    }
  },
  "cells": [
    {
      "cell_type": "markdown",
      "metadata": {
        "id": "view-in-github",
        "colab_type": "text"
      },
      "source": [
        "<a href=\"https://colab.research.google.com/github/AngelLeal2001/Python432/blob/main/AILJ_PY_ACT5.ipynb\" target=\"_parent\"><img src=\"https://colab.research.google.com/assets/colab-badge.svg\" alt=\"Open In Colab\"/></a>"
      ]
    },
    {
      "cell_type": "markdown",
      "source": [
        "##A C T I V I D A D - 5\n",
        "LENGUAJE DE PROGRAMACION PYTHON\n",
        "\n",
        "Angel Ignacio Leal Juarez\n",
        "\n",
        "Fecha: 12 de Septiembre del 2023\n",
        "\n",
        "Github: https://github.com/AngelLeal2001/Python432.git"
      ],
      "metadata": {
        "id": "lSzzfHesDaI-"
      }
    },
    {
      "cell_type": "code",
      "source": [
        "import random\n"
      ],
      "metadata": {
        "id": "9lBzkCtWHaA_"
      },
      "execution_count": 107,
      "outputs": []
    },
    {
      "cell_type": "markdown",
      "source": [
        "#PARTE 1"
      ],
      "metadata": {
        "id": "bVryTyTuilbx"
      }
    },
    {
      "cell_type": "markdown",
      "source": [
        "1.- Programa en Python que genere 40 números aleatorios entre el 0 y 200, desplegar los números y la leyenda de cada número si es par o impar , la cantidad de los números pares e impares así como la suma de los números pares o impares."
      ],
      "metadata": {
        "id": "7v59lfpCDiXr"
      }
    },
    {
      "cell_type": "code",
      "execution_count": null,
      "metadata": {
        "id": "EKT6_GPTDF-w"
      },
      "outputs": [],
      "source": [
        "import random"
      ]
    },
    {
      "cell_type": "code",
      "source": [
        "def parimpar():\n",
        "\n",
        "    par = 0\n",
        "    impar = 0\n",
        "    sumapar = 0\n",
        "    sumaimpar = 0\n",
        "\n",
        "    for i in range(1,41,1):\n",
        "        num = random.randint(0,200)\n",
        "\n",
        "        if num % 2 == 0:\n",
        "            print(i, \" - > \",num ,\" - > PAR\")\n",
        "            par+=1\n",
        "            sumapar = sumapar + num\n",
        "        else:\n",
        "            print(i, \" - > \",num ,\" - > IMPAR\")\n",
        "            impar+=1\n",
        "            sumaimpar = sumaimpar + num\n",
        "\n",
        "\n",
        "\n",
        "    print(\"\\nNumeros pares : \", par)\n",
        "    print(\"Suma de los numeros pares : \", sumapar)\n",
        "\n",
        "    print(\"\\nNumeros impares : \", impar)\n",
        "    print(\"Suma de los numeros impares : \", sumaimpar)\n",
        "\n",
        "parimpar()"
      ],
      "metadata": {
        "colab": {
          "base_uri": "https://localhost:8080/"
        },
        "id": "nm0AaKLKECfo",
        "outputId": "64baa61d-65a0-48af-b795-c359a2588088"
      },
      "execution_count": null,
      "outputs": [
        {
          "output_type": "stream",
          "name": "stdout",
          "text": [
            "1  - >  109  - > IMPAR\n",
            "2  - >  55  - > IMPAR\n",
            "3  - >  29  - > IMPAR\n",
            "4  - >  159  - > IMPAR\n",
            "5  - >  107  - > IMPAR\n",
            "6  - >  47  - > IMPAR\n",
            "7  - >  131  - > IMPAR\n",
            "8  - >  7  - > IMPAR\n",
            "9  - >  188  - > PAR\n",
            "10  - >  78  - > PAR\n",
            "11  - >  26  - > PAR\n",
            "12  - >  172  - > PAR\n",
            "13  - >  7  - > IMPAR\n",
            "14  - >  23  - > IMPAR\n",
            "15  - >  197  - > IMPAR\n",
            "16  - >  93  - > IMPAR\n",
            "17  - >  120  - > PAR\n",
            "18  - >  105  - > IMPAR\n",
            "19  - >  143  - > IMPAR\n",
            "20  - >  37  - > IMPAR\n",
            "21  - >  91  - > IMPAR\n",
            "22  - >  119  - > IMPAR\n",
            "23  - >  143  - > IMPAR\n",
            "24  - >  13  - > IMPAR\n",
            "25  - >  49  - > IMPAR\n",
            "26  - >  23  - > IMPAR\n",
            "27  - >  25  - > IMPAR\n",
            "28  - >  81  - > IMPAR\n",
            "29  - >  115  - > IMPAR\n",
            "30  - >  194  - > PAR\n",
            "31  - >  87  - > IMPAR\n",
            "32  - >  19  - > IMPAR\n",
            "33  - >  129  - > IMPAR\n",
            "34  - >  87  - > IMPAR\n",
            "35  - >  157  - > IMPAR\n",
            "36  - >  183  - > IMPAR\n",
            "37  - >  99  - > IMPAR\n",
            "38  - >  136  - > PAR\n",
            "39  - >  116  - > PAR\n",
            "40  - >  88  - > PAR\n",
            "\n",
            "Numeros pares :  9\n",
            "Suma de los numeros pares :  1118\n",
            "\n",
            "Numeros impares :  31\n",
            "Suma de los numeros impares :  2669\n"
          ]
        }
      ]
    },
    {
      "cell_type": "markdown",
      "source": [
        "2.- Programa en Python que despliegue la tabla de multiplicar de un número dado (número entre el 1 y 20)."
      ],
      "metadata": {
        "id": "vwphwhhWGgsB"
      }
    },
    {
      "cell_type": "code",
      "source": [
        "def tabla():\n",
        "\n",
        "    i = 1\n",
        "\n",
        "    try:\n",
        "        num = int(input(\"Dame un numero (del 1 al 20) : \"))\n",
        "        if num < 0 or num > 20:\n",
        "            raise (TypeError)\n",
        "\n",
        "    except ValueError:\n",
        "        print(\"ERROR, Tiene que ser un numero entero\\n\")\n",
        "        tabla()\n",
        "\n",
        "    except TypeError:\n",
        "        print(\"ERROR, Tiene que ser un numero del 1 al 20\\n\")\n",
        "        tabla()\n",
        "\n",
        "    else:\n",
        "        print(\"Tabla del\", num)\n",
        "\n",
        "        while i <= 10:\n",
        "            mult = num * i\n",
        "            print(i ,\"X\", num, \" = \", mult)\n",
        "            i+=1\n",
        "\n",
        "tabla()"
      ],
      "metadata": {
        "colab": {
          "base_uri": "https://localhost:8080/"
        },
        "id": "s0AXVjnQHS3z",
        "outputId": "9ea02906-216e-419f-901f-5ce98a65daf0"
      },
      "execution_count": null,
      "outputs": [
        {
          "output_type": "stream",
          "name": "stdout",
          "text": [
            "Dame un numero (del 1 al 20) : -5\n",
            "ERROR, tiene que ser un numero entero\n",
            "\n",
            "Dame un numero (del 1 al 20) : a\n",
            "ERROR, Tiene que ser un numero del 1 al 20\n",
            "\n",
            "Dame un numero (del 1 al 20) : 3\n",
            "Tabla del 3\n",
            "1 X 3  =  3\n",
            "2 X 3  =  6\n",
            "3 X 3  =  9\n",
            "4 X 3  =  12\n",
            "5 X 3  =  15\n",
            "6 X 3  =  18\n",
            "7 X 3  =  21\n",
            "8 X 3  =  24\n",
            "9 X 3  =  27\n",
            "10 X 3  =  30\n"
          ]
        }
      ]
    },
    {
      "cell_type": "markdown",
      "source": [
        "3.- Programa en Python que lea una calificación, las calificación deberá estar en el rango de 0 a 100, si hay un error de captura, mostrar mensaje de error. con la calificación correcta mostrar msg de aprobado reprobado."
      ],
      "metadata": {
        "id": "yWHx3MtuKVqO"
      }
    },
    {
      "cell_type": "code",
      "source": [
        "def calificacion():\n",
        "\n",
        "    try:\n",
        "        calif = int(input(\"Dame una calificacion (0 - 100) : \"))\n",
        "        if calif < 0 or calif > 100:\n",
        "            raise (TypeError)\n",
        "\n",
        "    except ValueError:\n",
        "        print(\"ERROR, Debe de ser un numero entero\\n\")\n",
        "        calificacion()\n",
        "\n",
        "    except TypeError:\n",
        "        print(\"ERROR, La calificacion debe de ser entre 0 y 100\\n\")\n",
        "        calificacion()\n",
        "\n",
        "    else:\n",
        "        if calif < 60:\n",
        "            print(\"\\nEl alumno esta REPROBADO\")\n",
        "        else:\n",
        "            print(\"\\nEl alumno esta APROBADO\")\n",
        "\n",
        "calificacion()"
      ],
      "metadata": {
        "colab": {
          "base_uri": "https://localhost:8080/"
        },
        "id": "SEUCzsc-Kdnw",
        "outputId": "b7c4e31f-97f7-4c66-a6d1-a2d5d51c6433"
      },
      "execution_count": null,
      "outputs": [
        {
          "output_type": "stream",
          "name": "stdout",
          "text": [
            "Dame una calificacion (0 - 100) : a\n",
            "ERROR, Debe de ser un numero entero\n",
            "\n",
            "Dame una calificacion (0 - 100) : -5\n",
            "ERROR, La calificacion debe de ser entre 0 y 100\n",
            "\n",
            "Dame una calificacion (0 - 100) : 102\n",
            "ERROR, La calificacion debe de ser entre 0 y 100\n",
            "\n",
            "Dame una calificacion (0 - 100) : 80\n",
            "\n",
            "El alumno esta APROBADO\n"
          ]
        }
      ]
    },
    {
      "cell_type": "markdown",
      "source": [
        "4.- Programa en Python que lea n cantidad de números enteros dentro de un rango dado (> 0 ) , el programa deberá terminar cuando el usuario introduzca el número cero.\n",
        "\n",
        "desplegar la suma de números y la media.\n",
        "\n"
      ],
      "metadata": {
        "id": "NyxbwTAJQURy"
      }
    },
    {
      "cell_type": "code",
      "source": [
        "suma = 0\n",
        "media = 0\n",
        "i = 0\n",
        "\n",
        "while True:\n",
        "    try:\n",
        "        n = int(input(\"Dame un numero (Pulsa 0 para salir) : \"))\n",
        "        if n < 0:\n",
        "            raise (TypeError)\n",
        "        if n == 0:\n",
        "            break\n",
        "\n",
        "        suma = suma + n\n",
        "\n",
        "        i = i + 1\n",
        "\n",
        "    except ValueError:\n",
        "        print(\"ERROR, Debe de ser un numero entero\\n\")\n",
        "        continue\n",
        "\n",
        "    except TypeError:\n",
        "        print(\"ERROR, el numero no debe ser menor que 0\\n\")\n",
        "        continue\n",
        "\n",
        "    else:\n",
        "        continue\n",
        "\n",
        "print(\"\\n- - - - - - - - - - - - - - -\")\n",
        "print(\"\\nSuma de los numeros: \", suma)\n",
        "print(\"La media de los numeros es : \", suma / i)"
      ],
      "metadata": {
        "colab": {
          "base_uri": "https://localhost:8080/"
        },
        "id": "4xT_NrjlQU_X",
        "outputId": "a7ac51d3-5af8-4152-a1fe-53d1434e4b19"
      },
      "execution_count": null,
      "outputs": [
        {
          "output_type": "stream",
          "name": "stdout",
          "text": [
            "Dame un numero (Pulsa 0 para salir) : 100\n",
            "Dame un numero (Pulsa 0 para salir) : 100\n",
            "Dame un numero (Pulsa 0 para salir) : 100\n",
            "Dame un numero (Pulsa 0 para salir) : 100\n",
            "Dame un numero (Pulsa 0 para salir) : 0\n",
            "\n",
            "- - - - - - - - - - - - - - -\n",
            "\n",
            "Suma de los numeros:  400\n",
            "La media de los numeros es :  100.0\n"
          ]
        }
      ]
    },
    {
      "cell_type": "markdown",
      "source": [
        "5.- Programa en Python que sirva para leer el promedio de una materia. donde el usuario tendrá un máximo de 3 oportunidades de cursar la materia, si el promedio es aprobado, felicitarlo y continuar el siguiente semestre, si promedio es reprobado deberá salir mensaje de repetir materia o es baja académica si ha reprobado 3 veces."
      ],
      "metadata": {
        "id": "pdJ6djRVWqAn"
      }
    },
    {
      "cell_type": "code",
      "source": [
        "i = 1\n",
        "\n",
        "while True:\n",
        "    try:\n",
        "        n = int(input(\"Promedio del alumno : \"))\n",
        "        if n < 0:\n",
        "            raise (TypeError)\n",
        "        if n >= 60:\n",
        "            print(\"Felicidades, pasaste al siguiente semestre :D\")\n",
        "            break\n",
        "\n",
        "        i = i + 1\n",
        "\n",
        "    except ValueError:\n",
        "        print(\"ERROR, Debe de ser un numero entero\\n\")\n",
        "        continue\n",
        "\n",
        "    except TypeError:\n",
        "        print(\"ERROR, el numero no debe ser menor que 0\\n\")\n",
        "        continue\n",
        "\n",
        "    else:\n",
        "        if i <= 3:\n",
        "            print(\"Lo siento, debe repetir la materia\")\n",
        "            continue\n",
        "        else:\n",
        "            print(\"Usted esta dado de baja (Limite alcanzado) \")\n",
        "            break"
      ],
      "metadata": {
        "id": "LlVz7bNzWtWs",
        "colab": {
          "base_uri": "https://localhost:8080/"
        },
        "outputId": "41010224-5b68-4ee0-9587-6ae4656f98f1"
      },
      "execution_count": null,
      "outputs": [
        {
          "output_type": "stream",
          "name": "stdout",
          "text": [
            "Promedio del alumno : 50\n",
            "Lo siento, debe repetir la materia\n",
            "Promedio del alumno : 30\n",
            "Lo siento, debe repetir la materia\n",
            "Promedio del alumno : 58\n",
            "Lo siento, usted esta dado de baja (Limite alcanzado) \n"
          ]
        }
      ]
    },
    {
      "cell_type": "markdown",
      "source": [
        "#PARTE 2"
      ],
      "metadata": {
        "id": "Xu4Ym2Tfip4P"
      }
    },
    {
      "cell_type": "markdown",
      "source": [
        "1.- función que lea n cantidad de números hasta que el usuario lo desee, desplegar la suma de los números, media y valor de los números mayores y menores."
      ],
      "metadata": {
        "id": "GfxHBdaSisZ-"
      }
    },
    {
      "cell_type": "code",
      "source": [
        "def media():\n",
        "    suma = 0\n",
        "    i = 1\n",
        "    mayor = 0\n",
        "    menor = 999\n",
        "\n",
        "    while True:\n",
        "        try:\n",
        "            n = int(input(\"\\nDame un numero (Pulsa 0 para salir) : \"))\n",
        "            if n < 0:\n",
        "                raise (TypeError)\n",
        "            if n == 0:\n",
        "                break\n",
        "\n",
        "        except ValueError:\n",
        "            print(\"ERROR, Debe de ser un numero entero\\n\")\n",
        "            continue\n",
        "\n",
        "        except TypeError:\n",
        "            print(\"ERROR, el numero no debe ser menor que 0\\n\")\n",
        "            continue\n",
        "\n",
        "        else:\n",
        "            suma = suma + n\n",
        "\n",
        "            i = i + 1\n",
        "\n",
        "            if n > mayor:\n",
        "                mayor = n\n",
        "\n",
        "            if n < menor:\n",
        "                menor = n\n",
        "\n",
        "    i = i-1\n",
        "    print(\"- - - - - - - - - - - - - - - - - - -\\n\")\n",
        "    print(\"La suma de los numeros es : \", suma)\n",
        "    print(\"El numero mayor es : \", mayor)\n",
        "    print(\"El numero menor es : \", menor)\n",
        "\n",
        "    try:\n",
        "        print(\"La media de los numero es : \", suma / i)\n",
        "    except ZeroDivisionError:\n",
        "        print(\"\\nERROR: No se agrego ningun numero\")\n",
        "        print(\"\\n\")\n",
        "        media()\n",
        "\n"
      ],
      "metadata": {
        "id": "3jWQMypRiuZl"
      },
      "execution_count": 108,
      "outputs": []
    },
    {
      "cell_type": "markdown",
      "source": [
        "2.- función que genere 15 números impares entre 10 y 60 o máximo de 25 números. desplegar la media de los pares y media de impares."
      ],
      "metadata": {
        "id": "1eaf34wIlkLu"
      }
    },
    {
      "cell_type": "code",
      "source": [
        "def media_numeros():\n",
        "    par = 0\n",
        "    impar = 0\n",
        "    sumapar = 0\n",
        "    sumaimpar = 0\n",
        "\n",
        "    for i in range(1,26,1):\n",
        "        num = random.randint(10,60)\n",
        "\n",
        "        if impar == 15:\n",
        "            print(\"\\n- - LIMITE DE IMPARES ALCANZADO (15) - -\")\n",
        "            break\n",
        "\n",
        "        if num % 2 == 0:\n",
        "            print(i, \" - > \",num)\n",
        "            par+=1\n",
        "            sumapar = sumapar + num\n",
        "        else:\n",
        "            print(i, \" - > \",num)\n",
        "            impar+=1\n",
        "            sumaimpar = sumaimpar + num\n",
        "\n",
        "\n",
        "    print(\"\\nNumeros pares : \", par)\n",
        "    mediapar = sumapar / par\n",
        "    print(f\"Media de los numeros pares : {mediapar}\")\n",
        "\n",
        "    print(\"\\nNumeros impares : \", impar)\n",
        "    mediaimpar = sumaimpar / impar\n",
        "    print(f\"Media de los numeros impares : {mediaimpar}\")\n",
        "\n"
      ],
      "metadata": {
        "id": "r7ULFaazloox"
      },
      "execution_count": 83,
      "outputs": []
    },
    {
      "cell_type": "markdown",
      "source": [
        "3.- función que sirva para leer y validar un número dentro de un rango dado por el usuario. repetir esta acción hasta que el usuario lo desee, desplegar cantidad de números y promedio de los números.."
      ],
      "metadata": {
        "id": "xCn0bpkAv2UZ"
      }
    },
    {
      "cell_type": "code",
      "source": [
        "def validarnumeros():\n",
        "\n",
        "    suma = 0\n",
        "    i = 0\n",
        "    try:\n",
        "        min = int(input(\"\\nDame el rango minimo : \"))\n",
        "        max = int(input(\"Dame el rango maximo : \"))\n",
        "\n",
        "        while True:\n",
        "            num = int(input(\"Dame un numero (0 para salir) : \"))\n",
        "\n",
        "            if num == 0:\n",
        "                break\n",
        "\n",
        "            if num > max or num < min:\n",
        "                raise (TypeError)\n",
        "\n",
        "            suma = suma + num\n",
        "            i+=1\n",
        "\n",
        "    except ValueError:\n",
        "        print(\"ERROR, Debe de ser un numero entero\\n\")\n",
        "        validarnumeros()\n",
        "\n",
        "    except TypeError:\n",
        "        print(f\"ERROR: numero entre {min} y {max}\\n\")\n",
        "        validarnumeros()\n",
        "\n",
        "    print(f\"\\nTotal de numeros : {i}\")\n",
        "    prom = suma / i\n",
        "    print(f\"El promedio de los numeros es : {prom}\")\n",
        "\n"
      ],
      "metadata": {
        "id": "UEgcNZyUxYq8"
      },
      "execution_count": 109,
      "outputs": []
    },
    {
      "cell_type": "markdown",
      "source": [
        "4.- función que reciba como parámetro los valores para el área de un triángulo y retorne su resultado"
      ],
      "metadata": {
        "id": "OqnnjTG8Qb7O"
      }
    },
    {
      "cell_type": "code",
      "source": [
        "def area_triangulo():\n",
        "    try:\n",
        "        b = int(input(\"\\nBase del triangulo : \"))\n",
        "        if b < 0:\n",
        "            raise (TypeError)\n",
        "\n",
        "        h = int(input(\"Base del triangulo : \"))\n",
        "        if h < 0:\n",
        "            raise (TypeError)\n",
        "\n",
        "    except ValueError:\n",
        "        print(\"ERROR, Debe de ser un numero entero\\n\")\n",
        "        area_triangulo()\n",
        "\n",
        "    except TypeError:\n",
        "        print(\"ERROR: debe de ser un numero mayor a 0\\n\")\n",
        "        area_triangulo()\n",
        "\n",
        "    else:\n",
        "        area = (b * h) / 2\n",
        "        print(f\"\\nEl area del triangulo es : {area}\")\n",
        "\n"
      ],
      "metadata": {
        "id": "TGA5p5hgQhl3"
      },
      "execution_count": 110,
      "outputs": []
    },
    {
      "cell_type": "markdown",
      "source": [
        "5.- función que sirva para validar un número dentro de un rango dado."
      ],
      "metadata": {
        "id": "qWzmo8ihVIr7"
      }
    },
    {
      "cell_type": "code",
      "source": [
        "def validar():\n",
        "    try:\n",
        "        min = int(input(\"\\nDame el rango minimo : \"))\n",
        "        max = int(input(\"Dame el rango maximo : \"))\n",
        "\n",
        "        num = int(input(f\"Dame un numero ({min} al {max}) : \"))\n",
        "        if num < min:\n",
        "            raise (TypeError)\n",
        "\n",
        "        if num > max:\n",
        "            raise (TypeError)\n",
        "\n",
        "    except ValueError:\n",
        "        print(\"ERROR, Debe de ser un numero entero\\n\")\n",
        "        validar()\n",
        "\n",
        "    except TypeError:\n",
        "        print(f\"ERROR: debe de ser entre {min} - {max}\\n\")\n",
        "        validar()"
      ],
      "metadata": {
        "id": "JlWv93p_VJ_6"
      },
      "execution_count": 111,
      "outputs": []
    },
    {
      "cell_type": "code",
      "source": [
        "def main():\n",
        "\n",
        "    print(\" - M E N U - \")\n",
        "    print(\"\\n1.- Problema 1\")\n",
        "    print(\"\\n2.- Problema 2\")\n",
        "    print(\"\\n3.- Problema 3\")\n",
        "    print(\"\\n4.- Problema 4\")\n",
        "    print(\"\\n5.- Problema 5\")\n",
        "    print(\"\\n 0.- Salir\")\n",
        "\n",
        "    try:\n",
        "        op = int(input(\"\\nElige una opcion : \"))\n",
        "\n",
        "        if op < 0:\n",
        "            raise (TypeError)\n",
        "\n",
        "    except ValueError:\n",
        "        print(\"ERROR, Debe de ser un numero entero\\n\")\n",
        "\n",
        "    except TypeError:\n",
        "        print(\"ERROR: no puede ser numero negativo\\n\")\n",
        "\n",
        "    else:\n",
        "        if op == 0:\n",
        "            print(\"\\nBuen dia :)\")\n",
        "        elif op == 1:\n",
        "            media()\n",
        "        elif op == 2:\n",
        "            media_numeros()\n",
        "        elif op == 3:\n",
        "            validarnumeros()\n",
        "        elif op == 4:\n",
        "            area_triangulo()\n",
        "        elif op == 5:\n",
        "            validar()\n",
        "        else:\n",
        "            print(\"opcion no valida\")\n",
        "            main()\n",
        "\n",
        "main()"
      ],
      "metadata": {
        "colab": {
          "base_uri": "https://localhost:8080/"
        },
        "id": "GvJ2Khsbb2-P",
        "outputId": "52a85d79-d467-4509-bacc-4dcbff6a51a6"
      },
      "execution_count": 112,
      "outputs": [
        {
          "name": "stdout",
          "output_type": "stream",
          "text": [
            " - M E N U - \n",
            "\n",
            "1.- Problema 1\n",
            "\n",
            "2.- Problema 2\n",
            "\n",
            "3.- Problema 3\n",
            "\n",
            "4.- Problema 4\n",
            "\n",
            "5.- Problema 5\n",
            "\n",
            " 0.- Salir\n",
            "\n",
            "Elige una opcion : 5\n",
            "\n",
            "Dame el rango minimo : 1\n",
            "Dame el rango maximo : 10\n",
            "Dame un numero (1 al 10) : 0\n",
            "ERROR: debe de ser entre 1 - 10\n",
            "\n",
            "\n",
            "Dame el rango minimo : 1\n",
            "Dame el rango maximo : 10\n",
            "Dame un numero (1 al 10) : 5\n"
          ]
        }
      ]
    }
  ]
}