{
  "nbformat": 4,
  "nbformat_minor": 0,
  "metadata": {
    "colab": {
      "provenance": [],
      "authorship_tag": "ABX9TyMxZvu3Vk1x1O28E1RIHwIM",
      "include_colab_link": true
    },
    "kernelspec": {
      "name": "python3",
      "display_name": "Python 3"
    },
    "language_info": {
      "name": "python"
    }
  },
  "cells": [
    {
      "cell_type": "markdown",
      "metadata": {
        "id": "view-in-github",
        "colab_type": "text"
      },
      "source": [
        "<a href=\"https://colab.research.google.com/github/AngelLeal2001/Python432/blob/main/AILJ_PY_ACT3.ipynb\" target=\"_parent\"><img src=\"https://colab.research.google.com/assets/colab-badge.svg\" alt=\"Open In Colab\"/></a>"
      ]
    },
    {
      "cell_type": "markdown",
      "source": [
        "#A C T I V I D A D - 3\n",
        "LENGUAJE DE PROGRAMACION PYTHON\n",
        "\n",
        "Angel Ignacio Leal Juarez\n",
        "\n",
        "Fecha: 3 de septiembre del 2023\n",
        "\n",
        "Github: https://github.com/AngelLeal2001/Python432.git"
      ],
      "metadata": {
        "id": "vIc5NuVI82Rb"
      }
    },
    {
      "cell_type": "markdown",
      "source": [
        "1.- Algoritmo que lea 3 calificaciones calcule el promedio del alumno y desplegar:\n",
        "\n",
        "Si prom < 30 Repetir\n",
        "\n",
        "Si prom >=30 y prom <60 extraordinario\n",
        "\n",
        "Si prom >=60 y prom <70 suficiente\n",
        "\n",
        "Si prom >=70 y prom <80 Regular\n",
        "\n",
        "Si prom >=80 y prom <90 bien\n",
        "\n",
        "Si prom >=90 y prom <98 muy bien\n",
        "\n",
        "Si prom >=98 y prom <=100 excelente\n",
        "\n",
        "Si prom >100 Error en promedio"
      ],
      "metadata": {
        "id": "uSf1G3sc9Cc1"
      }
    },
    {
      "cell_type": "code",
      "source": [
        "cal1 = int(input(\"Dame la primera calificacion: \"))\n",
        "cal2 = int(input(\"Dame la segunda calificacion: \"))\n",
        "cal3 = int(input(\"Dame la tercera calificacion: \"))\n",
        "\n",
        "prom = (cal1 + cal2 + cal3) / 3\n",
        "print(f\"\\n El promedio del alumno es de: {prom}\")\n",
        "\n",
        "if prom < 30:\n",
        "    print(\"Repetir\")\n",
        "elif prom < 60:\n",
        "    print(\"Extraordinario\")\n",
        "elif prom < 70:\n",
        "    print(\"Suficiente\")\n",
        "elif prom < 80:\n",
        "    print(\"Regular\")\n",
        "elif prom < 90:\n",
        "    print(\"Bien\")\n",
        "elif prom < 98:\n",
        "    print(\"Muy bien\")\n",
        "elif prom <= 100:\n",
        "    print(\"Excelente\")\n",
        "else:\n",
        "    print(\"Error de promedio\")"
      ],
      "metadata": {
        "id": "2A6F9zeKHzoU",
        "colab": {
          "base_uri": "https://localhost:8080/"
        },
        "outputId": "03a69970-d860-4b12-bdd8-1e04ae09565a"
      },
      "execution_count": null,
      "outputs": [
        {
          "output_type": "stream",
          "name": "stdout",
          "text": [
            "Dame la primera calificacion: 80\n",
            "Dame la segunda calificacion: 79\n",
            "Dame la tercera calificacion: 92\n",
            "\n",
            " El promedio del alumno es de: 83.66666666666667\n",
            "Bien\n"
          ]
        }
      ]
    },
    {
      "cell_type": "markdown",
      "source": [
        "2.- Algoritmo que sirva para calcular el salario semanal de un trabajador donde se obtiene como dato de entrada las horas semanales trabajadas, el salario por hora.\n",
        "\n",
        "El programa deberá calcular el salario normal, salario extra y salario total, considerando lo siguiente:\n",
        "\n",
        "Jornada Normal de 40 horas.\n",
        "El salario normal se considera las horas trabajadas menores o igual a la jornada normal\n",
        "Salario extra se considera las horas trabajadas mayores a la jornada normal y se pagan dobles las primeras 9 y triples a partir de la décima hora extra"
      ],
      "metadata": {
        "id": "XuQLVsHgElWg"
      }
    },
    {
      "cell_type": "code",
      "source": [
        "horas = int(input(\"Horas trabajadas semanalmente: \"))\n",
        "salh = int(input(\"Salario por hora: \"))\n",
        "\n",
        "saln = salh * horas\n",
        "\n",
        "if horas > 49:\n",
        "    salex = (salh * (horas - 40)) + ((salh * (horas - 49)))\n",
        "    salt = saln + salex\n",
        "    print(f\"\\nsalario por hora: {salh}\")\n",
        "    print(f\"horas trabajadas: {horas}\")\n",
        "    print(f\"Salario normal: {saln}\")\n",
        "    print(f\"salario extra: {salex}\")\n",
        "    print(f\"salario total: {salt}\")\n",
        "\n",
        "elif horas > 40:\n",
        "    salex = (salh * (horas - 40))\n",
        "    salt = saln + salex\n",
        "    print(f\"\\nsalario por hora: {salh}\")\n",
        "    print(f\"horas trabajadas: {horas}\")\n",
        "    print(f\"Salario normal: {saln}\")\n",
        "    print(f\"salario extra: {salex}\")\n",
        "    print(f\"salario total: {salt}\")\n",
        "\n",
        "else:\n",
        "    salt = saln\n",
        "    print(f\"\\nsalario por hora: {salh}\")\n",
        "    print(f\"horas trabajadas: {horas}\")\n",
        "    print(f\"Salario normal: {saln}\")\n",
        "    print(\"Salario extra: 0\")\n",
        "    print(f\"salario total: {salt}\")"
      ],
      "metadata": {
        "id": "P2hE15VPEpGI",
        "colab": {
          "base_uri": "https://localhost:8080/"
        },
        "outputId": "3aabb96e-02f4-4906-a172-fbab4dfae20c"
      },
      "execution_count": null,
      "outputs": [
        {
          "output_type": "stream",
          "name": "stdout",
          "text": [
            "Horas trabajadas semanalmente: 50\n",
            "Salario por hora: 20\n",
            "\n",
            "Salario normal: 1000\n",
            "salario extra: 220\n",
            "salario total: 1220\n"
          ]
        }
      ]
    },
    {
      "cell_type": "markdown",
      "source": [
        "3.- Algoritmo que sirva para desplegar el Total de una llamada telefónica donde se pide como datos de entrada los minutos y el tipo de llamada, se cobra de la siguiente manera:\n",
        "\n",
        "1.- Llamada Local $3.00 sin límite de tiempo\n",
        "\n",
        "2.- Llamada Nacional $$7.00 por los 3 primeros minutos y $2.00 minuto adicional\n",
        "\n",
        "3.- Llamada Internacional $$9.00 por los 2 primeros minutos y $4.00 minuto\n",
        "adicional\n",
        "\n",
        " Desplegar, Subtotal,Iva (16%) y Total."
      ],
      "metadata": {
        "id": "yW-87hkTt3zR"
      }
    },
    {
      "cell_type": "code",
      "source": [
        "min = int(input(\"Minutos de llamada: \"))\n",
        "print(\"Tipo de llamada: \\n\")\n",
        "print(\"1.- Local\")\n",
        "print(\"2.- Nacional\")\n",
        "print(\"3.- Internacional\")\n",
        "opcion = int(input(\"Eliga una opcion: \\n \"))\n",
        "\n",
        "if opcion == 1:\n",
        "    print(\" ---> llamada Local\\n\")\n",
        "    iva = 3 * .16\n",
        "    total = 3 + iva\n",
        "    print(\"\\nSubtotal: $3.00\")\n",
        "    print(f\"\\nIVA: ${iva}\")\n",
        "    print(f\"\\nTOTAL: ${total}\")\n",
        "elif opcion == 2:\n",
        "    print(\" ---> llamada Nacional\\n\")\n",
        "    if min <= 3:\n",
        "        iva = 7 * .16\n",
        "        total = 7 + iva\n",
        "        print(\"\\nSubtotal: $7.00\")\n",
        "        print(f\"\\nIVA: ${iva}\")\n",
        "        print(f\"\\nTOTAL: ${total}\")\n",
        "    else:\n",
        "        subtotal = 7 + ((min - 3) * 2)\n",
        "        iva = subtotal * .16\n",
        "        total = subtotal + iva\n",
        "        print(f\"\\nSubtotal: ${subtotal}\")\n",
        "        print(f\"\\nIVA: ${iva}\")\n",
        "        print(f\"\\nTOTAL: ${total}\")\n",
        "elif opcion == 3:\n",
        "    if min <= 2:\n",
        "        iva = 9 * .16\n",
        "        total = 9 + iva\n",
        "        print(\"\\nSubtotal: $9.00\")\n",
        "        print(f\"\\nIVA: ${iva}\")\n",
        "        print(f\"\\nTOTAL: ${total}\")\n",
        "    else:\n",
        "        subtotal = 9 + ((min - 2) * 4)\n",
        "        iva = subtotal * .16\n",
        "        total = subtotal + iva\n",
        "        print(f\"\\nSubtotal: ${subtotal}\")\n",
        "        print(f\"\\nIVA: ${iva}\")\n",
        "        print(f\"\\nTOTAL: ${total}\")\n",
        "else:\n",
        "    print(\"Opcion no valida\")"
      ],
      "metadata": {
        "colab": {
          "base_uri": "https://localhost:8080/"
        },
        "id": "1Rt8lemht5Z7",
        "outputId": "548697ab-359e-4f23-9aeb-df50952ccecc"
      },
      "execution_count": null,
      "outputs": [
        {
          "output_type": "stream",
          "name": "stdout",
          "text": [
            "Minutos de llamada: 56\n",
            "Tipo de llamada: \n",
            "\n",
            "1.- Local\n",
            "2.- Nacional\n",
            "3.- Internacional\n",
            "Eliga una opcion: \n",
            " 3\n",
            "\n",
            "Subtotal: $225\n",
            "\n",
            "IVA: $36.0\n",
            "\n",
            "TOTAL: $261.0\n"
          ]
        }
      ]
    },
    {
      "cell_type": "markdown",
      "source": [
        "4.- Algoritmo que sirva para calcular el Total a pagar por consumo de agua, donde el dato de entrada son los M3 de agua consumidos, Tomar en cuenta que se cobra escalonada de la Siguiente manera:\n",
        "\n",
        "Rango1: 0 al 4 M3 $50 x facturación sin importar cuánto consumió en este rango\n",
        "\n",
        "Rango2: 5 a 15 M3 $8.00 x M3\n",
        "\n",
        "Rango3: 16 a 50 M3 $10.00 x M3\n",
        "\n",
        "Rango4: 51 M3 en adelante $11.00 x M3\n",
        "\n",
        "Nota: Desplegar SubTotal, Iva(16%), y Total a pagar."
      ],
      "metadata": {
        "id": "4Nt-JZbT11U7"
      }
    },
    {
      "cell_type": "code",
      "source": [
        "m3 = int(input(\"Metros cubicos de agua consumidos: \"))\n",
        "\n",
        "if m3 <= 4:\n",
        "    iva = 50 * .16\n",
        "    total = 50 + iva\n",
        "    print(\"\\nSubtotal: $50\")\n",
        "    print(f\"\\nIVA: ${iva}\")\n",
        "    print(f\"\\nTOTAL: ${total}\")\n",
        "elif m3 <= 15:\n",
        "    subtotal = 50 + ((m3 - 4) * 8)\n",
        "    iva = subtotal * .16\n",
        "    total = subtotal + iva\n",
        "    print(f\"\\nSubtotal: ${subtotal}\")\n",
        "    print(f\"\\nIVA: ${iva}\")\n",
        "    print(f\"\\nTOTAL: ${total}\")\n",
        "elif m3 <= 50:\n",
        "    subtotal = 50 + 88 + ((m3 - 15) * 10)\n",
        "    iva = subtotal * .16\n",
        "    total = subtotal + iva\n",
        "    print(f\"\\nSubtotal: ${subtotal}\")\n",
        "    print(f\"\\nIVA: ${iva}\")\n",
        "    print(f\"\\nTOTAL: ${total}\")\n",
        "elif m3 > 50:\n",
        "    subtotal = 50 + 88 + 250 + ((m3 - 50) * 11)\n",
        "    iva = subtotal * .16\n",
        "    total = subtotal + iva\n",
        "    print(f\"\\nSubtotal: ${subtotal}\")\n",
        "    print(f\"\\nIVA: ${iva}\")\n",
        "    print(f\"\\nTOTAL: ${total}\")\n",
        "else:\n",
        "    print(\"Opcion no valida\")"
      ],
      "metadata": {
        "colab": {
          "base_uri": "https://localhost:8080/"
        },
        "id": "UjuraHWP14d_",
        "outputId": "a74d0900-5a99-463a-eed4-79a06dbe2fba"
      },
      "execution_count": null,
      "outputs": [
        {
          "output_type": "stream",
          "name": "stdout",
          "text": [
            "Metros cubicos de agua consumidos: 134\n",
            "\n",
            "Subtotal: $1312\n",
            "\n",
            "IVA: $209.92000000000002\n",
            "\n",
            "TOTAL: $1521.92\n"
          ]
        }
      ]
    },
    {
      "cell_type": "markdown",
      "source": [
        "5- En la materia de Metodología de la programación se aplican 5 exámenes, calcular el promedio final de la materia donde la calificación menor de los exámenes se anula y el promedio se calcula en base a 4 exámenes.\n",
        "\n",
        "Desplegar el promedio final."
      ],
      "metadata": {
        "id": "mK02BRj_a6WV"
      }
    },
    {
      "cell_type": "code",
      "source": [
        "cal1 = int(input(\"Calificacion del examen 1: \"))\n",
        "cal2 = int(input(\"Calificacion del examen 2: \"))\n",
        "cal3 = int(input(\"Calificacion del examen 3: \"))\n",
        "cal4 = int(input(\"Calificacion del examen 4: \"))\n",
        "cal5 = int(input(\"Calificacion del examen 5: \"))\n",
        "\n",
        "menor = 100\n",
        "\n",
        "if cal1 < menor:\n",
        "    menor = cal1\n",
        "\n",
        "if cal2 < menor:\n",
        "    menor = cal2\n",
        "\n",
        "if cal3 < menor:\n",
        "    menor = cal3\n",
        "\n",
        "if cal4 < menor:\n",
        "    menor = cal4\n",
        "\n",
        "if cal5 < menor:\n",
        "    menor = cal5\n",
        "\n",
        "print(menor)\n",
        "prom = (cal1 + cal2 + cal3 + cal4 + cal5 - menor) / 4\n",
        "print(f\"El promedio de los examenes es de: \", {prom})"
      ],
      "metadata": {
        "colab": {
          "base_uri": "https://localhost:8080/"
        },
        "id": "8FxLdDENbAzm",
        "outputId": "4b56f1b7-cb20-49d8-a5ee-e061c857fa64"
      },
      "execution_count": null,
      "outputs": [
        {
          "output_type": "stream",
          "name": "stdout",
          "text": [
            "Calificacion del examen 1: 98\n",
            "Calificacion del examen 2: 77\n",
            "Calificacion del examen 3: 86\n",
            "Calificacion del examen 4: 71\n",
            "Calificacion del examen 5: 70\n",
            "70\n",
            "El promedio de los examenes es de:  83.0\n"
          ]
        }
      ]
    },
    {
      "cell_type": "markdown",
      "source": [
        "6.- Algoritmo que sirva para el juego del CHINCHAMPU (Piedra, Papel, Tijera) para 1 jugador y la computadora, (usar condición anidada)"
      ],
      "metadata": {
        "id": "p8cz6mrBdypo"
      }
    },
    {
      "cell_type": "code",
      "source": [
        "import random"
      ],
      "metadata": {
        "id": "Co_JKSfOmsx-"
      },
      "execution_count": null,
      "outputs": []
    },
    {
      "cell_type": "code",
      "source": [
        "print(\"1.- Piedra\")\n",
        "print(\"2.- Papel\")\n",
        "print(\"3.- Tijeras\")\n",
        "opcion = int(input(\"Eliga una opcion: \"))\n",
        "\n",
        "jug2 = random.randint(1, 3)\n",
        "\n",
        "if opcion == 1:\n",
        "    if jug2 == 1:\n",
        "        print(\"\\nEMPATE\")\n",
        "        print(\"Los 2 eligieron piedra\")\n",
        "    else:\n",
        "        if jug2 == 2:\n",
        "            print(\"\\nPERDISTE\")\n",
        "            print(\"Papel gana a Piedra\")\n",
        "        else:\n",
        "            if jug2 == 3:\n",
        "                print(\"\\nGANASTE\")\n",
        "                print(\"Piedra gana a Tijeras\")\n",
        "\n",
        "if opcion == 2:\n",
        "    if jug2 == 1:\n",
        "        print(\"\\nGANASTE\")\n",
        "        print(\"Papel gana a piedra\")\n",
        "    else:\n",
        "        if jug2 == 2:\n",
        "            print(\"\\nEMPATE\")\n",
        "            print(\"Los 2 eligieron papel\")\n",
        "        else:\n",
        "            if jug2 == 3:\n",
        "                print(\"\\nPERDISTE\")\n",
        "                print(\"Tijeras gana a papel\")\n",
        "\n",
        "if opcion == 3:\n",
        "    if jug2 == 1:\n",
        "        print(\"\\nPERDISTE\")\n",
        "        print(\"Piedra gana a tijeras\")\n",
        "    else:\n",
        "        if jug2 == 2:\n",
        "            print(\"\\nGANASTE\")\n",
        "            print(\"Tijeras gana a papel\")\n",
        "        else:\n",
        "            if jug2 == 3:\n",
        "                print(\"\\nEMPATE\")\n",
        "                print(\"Los 2 eligieron tijeras\")"
      ],
      "metadata": {
        "colab": {
          "base_uri": "https://localhost:8080/"
        },
        "id": "26bVP2dod8UN",
        "outputId": "df55febc-959d-4cc4-fc63-fdbb113044b4"
      },
      "execution_count": null,
      "outputs": [
        {
          "output_type": "stream",
          "name": "stdout",
          "text": [
            "1.- Piedra\n",
            "2.- Papel\n",
            "3.- Tijeras\n",
            "Eliga una opcion: 2\n",
            "\n",
            "GANASTE\n",
            "Papel gana a piedra\n"
          ]
        }
      ]
    },
    {
      "cell_type": "markdown",
      "source": [
        "7.- Algoritmo que sirva para el juego del CHINCHAMPU (Piedra, Papel, Tijera) para 1 jugador y la computadora, (usar selección múltiple)"
      ],
      "metadata": {
        "id": "VY5Mm6DP6le1"
      }
    },
    {
      "cell_type": "code",
      "source": [
        "print(\"1.- Piedra\")\n",
        "print(\"2.- Papel\")\n",
        "print(\"3.- Tijeras\")\n",
        "\n",
        "\n",
        "try:\n",
        "    opcion = int(input(\"Eliga una opcion: \"))\n",
        "\n",
        "    jug2 = random.randint(1, 3)\n",
        "\n",
        "    if opcion == 1:\n",
        "        if jug2 == 1:\n",
        "            print(\"\\nEMPATE\")\n",
        "            print(\"Los 2 eligieron piedra\")\n",
        "        elif jug2 == 2:\n",
        "            print(\"\\nPERDISTE\")\n",
        "            print(\"Papel gana a Piedra\")\n",
        "        else:\n",
        "            print(\"\\nGANASTE\")\n",
        "            print(\"Piedra gana a Tijeras\")\n",
        "\n",
        "    elif opcion == 2:\n",
        "        if jug2 == 1:\n",
        "            print(\"\\nGANASTE\")\n",
        "            print(\"Papel gana a piedra\")\n",
        "        elif jug2 == 2:\n",
        "            print(\"\\nEMPATE\")\n",
        "            print(\"Los 2 eligieron papel\")\n",
        "        else:\n",
        "            print(\"\\nPERDISTE\")\n",
        "            print(\"Tijeras gana a papel\")\n",
        "\n",
        "    elif opcion == 3:\n",
        "        if jug2 == 1:\n",
        "            print(\"\\nPERDISTE\")\n",
        "            print(\"Piedra gana a tijeras\")\n",
        "        elif jug2 == 2:\n",
        "            print(\"\\nGANASTE\")\n",
        "            print(\"Tijeras gana a papel\")\n",
        "        else:\n",
        "            print(\"\\nEMPATE\")\n",
        "            print(\"Los 2 eligieron tijeras\")\n",
        "\n",
        "except ValueError:\n",
        "    print(\"¿Apoco ese es un numero? eliga un numero porfavor\")"
      ],
      "metadata": {
        "colab": {
          "base_uri": "https://localhost:8080/"
        },
        "id": "DhvtuceC6mwF",
        "outputId": "1cfcfabb-2d83-4a58-f46d-06c85c6959db"
      },
      "execution_count": null,
      "outputs": [
        {
          "output_type": "stream",
          "name": "stdout",
          "text": [
            "1.- Piedra\n",
            "2.- Papel\n",
            "3.- Tijeras\n",
            "Eliga una opcion: 2\n",
            "\n",
            "PERDISTE\n",
            "Tijeras gana a papel\n"
          ]
        }
      ]
    }
  ]
}