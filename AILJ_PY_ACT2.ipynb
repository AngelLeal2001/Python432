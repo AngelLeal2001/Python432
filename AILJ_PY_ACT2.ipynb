{
  "nbformat": 4,
  "nbformat_minor": 0,
  "metadata": {
    "colab": {
      "provenance": [],
      "authorship_tag": "ABX9TyP/0GkBcKItluA/vxt2Ku0z",
      "include_colab_link": true
    },
    "kernelspec": {
      "name": "python3",
      "display_name": "Python 3"
    },
    "language_info": {
      "name": "python"
    }
  },
  "cells": [
    {
      "cell_type": "markdown",
      "metadata": {
        "id": "view-in-github",
        "colab_type": "text"
      },
      "source": [
        "<a href=\"https://colab.research.google.com/github/AngelLeal2001/Python432/blob/main/AILJ_PY_ACT2.ipynb\" target=\"_parent\"><img src=\"https://colab.research.google.com/assets/colab-badge.svg\" alt=\"Open In Colab\"/></a>"
      ]
    },
    {
      "cell_type": "markdown",
      "source": [
        "#A C T I V I D A D - 2\n",
        "\n",
        "**LENGUAJE DE PROGRAMACION PYTHON**\n",
        "\n",
        "Angel Ignacio Leal Juarez\n",
        "\n",
        "Fecha: 22 de agosto del 2023\n",
        "\n",
        "Github: https://github.com/AngelLeal2001/Python432.git\n",
        "\n"
      ],
      "metadata": {
        "id": "8gZCrWB74rbe"
      }
    },
    {
      "cell_type": "markdown",
      "source": [
        "#**C O N D I C I O N - S I M P L E**"
      ],
      "metadata": {
        "id": "YD5AVdy5Buzb"
      }
    },
    {
      "cell_type": "markdown",
      "source": [
        "1.- Programa en Python que lea 2 números enteros, usar una condición y analizar los dos números y desplegar cual de los números es el mayor. 1"
      ],
      "metadata": {
        "id": "QILGzH864k23"
      }
    },
    {
      "cell_type": "code",
      "execution_count": 12,
      "metadata": {
        "colab": {
          "base_uri": "https://localhost:8080/"
        },
        "id": "0pEUvzo236HR",
        "outputId": "a51a83b4-5138-4a3c-aa36-a06b11b163ac"
      },
      "outputs": [
        {
          "output_type": "stream",
          "name": "stdout",
          "text": [
            "Dame un numero (entero): \n",
            "5\n",
            "Dame otro numero (entero): \n",
            "6\n",
            " El numero mayor es el numero 2: = 6\n"
          ]
        }
      ],
      "source": [
        "num1 = int(input(\"Dame un numero (entero): \\n\"))\n",
        "num2 = int(input(\"Dame otro numero (entero): \\n\"))\n",
        "\n",
        "if num1 > num2:\n",
        "  print(f\"el numero mayor es el numero 1: {num1}\")\n",
        "\n",
        "if num2 > num1:\n",
        "  print(f\" El numero mayor es el numero 2: {num2}\")\n"
      ]
    },
    {
      "cell_type": "markdown",
      "source": [
        "2.- Programa en Python Algoritmo que lea 4 calificaciones de un alumno, calcular y desplegar el promedio acompañado de la leyenda \"APROBADO\" o \"REPROBADO\""
      ],
      "metadata": {
        "id": "6Pkg4HP07lTP"
      }
    },
    {
      "cell_type": "code",
      "source": [
        "cal1 = int(input(\"Dame la calificacion 1: \\n\"))\n",
        "cal2 = int(input(\"Dame la calificacion 2: \\n\"))\n",
        "cal3 = int(input(\"Dame la calificacion 3: \\n\"))\n",
        "cal4 = int(input(\"Dame la calificacion 4: \\n\"))\n",
        "\n",
        "prom = (cal1 + cal2 + cal3 + cal4) / 4\n",
        "\n",
        "print(f\" El promedio del alumno es de: {prom}\")\n",
        "\n",
        "if prom < 60:\n",
        "  print(\"  El alumno esta REPROBADO\")\n",
        "\n",
        "if prom >= 60:\n",
        "  print(\"  El alumno esta APROBADO\")"
      ],
      "metadata": {
        "colab": {
          "base_uri": "https://localhost:8080/"
        },
        "id": "VVeiCrLk7oVo",
        "outputId": "53e4a62a-27ce-4a4f-f2c7-4d627fd9ec62"
      },
      "execution_count": 20,
      "outputs": [
        {
          "output_type": "stream",
          "name": "stdout",
          "text": [
            "Dame la calificacion 1: \n",
            "59\n",
            "Dame la calificacion 2: \n",
            "60\n",
            "Dame la calificacion 3: \n",
            "60\n",
            "Dame la calificacion 4: \n",
            "60\n",
            " El promedio del alumno es de: 59.75\n",
            "  El alumno esta reprobado\n"
          ]
        }
      ]
    },
    {
      "cell_type": "markdown",
      "source": [
        "3.- Programa en PythonAlgoritmo que a través de opciones (1.- HOMBRE 2.- MUJER ) preguntar al usuario cual es su sexo y desplegar la leyenda “HOMBRE ”, “MUJER”"
      ],
      "metadata": {
        "id": "a6c1xeVJ9mGn"
      }
    },
    {
      "cell_type": "code",
      "source": [
        "print(\"¿Cual es su sexo?\")\n",
        "print(\"1.- HOMBRE\")\n",
        "print(\"2.- MUJER\")\n",
        "\n",
        "sexo = int(input( \"eliga un numero porfavor: \\n\"))\n",
        "\n",
        "if sexo == 1:\n",
        "  print(\"Eligio: HOMBRE\")\n",
        "\n",
        "if sexo == 2:\n",
        "  print(\"eligio: MUJER\")\n",
        "\n",
        "if sexo >= 3:\n",
        "  print(\"-- OPCION INVALIDA --\")"
      ],
      "metadata": {
        "colab": {
          "base_uri": "https://localhost:8080/"
        },
        "id": "khrm8ogX9r43",
        "outputId": "1320c407-64df-4c72-c785-aeb1448af2b3"
      },
      "execution_count": 34,
      "outputs": [
        {
          "output_type": "stream",
          "name": "stdout",
          "text": [
            "¿Cual es su sexo?\n",
            "1.- HOMBRE\n",
            "2.- MUJER\n",
            "eliga un numero porfavor: \n",
            "1\n",
            "Eligio: HOMBRE\n"
          ]
        }
      ]
    },
    {
      "cell_type": "markdown",
      "source": [
        "4.- Programa en Python que lea un número entero, y desplegar si el número es “PAR” o “IMPAR”"
      ],
      "metadata": {
        "id": "78i7w7GQ_7by"
      }
    },
    {
      "cell_type": "code",
      "source": [
        "num = int(input(\"Dame un numero entero: \\n\"))\n",
        "\n",
        "if num % 2 == 0:\n",
        "  print(\"El numero es PAR\")\n",
        "\n",
        "if num % 2 == 1:\n",
        "  print(\"El numero es IMPAR\")"
      ],
      "metadata": {
        "colab": {
          "base_uri": "https://localhost:8080/"
        },
        "id": "y9ftz7wG_9wh",
        "outputId": "0b15d5f8-db23-42dc-b88b-ce0f426731e3"
      },
      "execution_count": 41,
      "outputs": [
        {
          "output_type": "stream",
          "name": "stdout",
          "text": [
            "Dame un numero entero: \n",
            "5563425345457\n",
            "El numero es IMPAR\n"
          ]
        }
      ]
    },
    {
      "cell_type": "markdown",
      "source": [
        "#**C O N D  I C I O N - C O M P U E S T A**"
      ],
      "metadata": {
        "id": "K_2P3qycCCdO"
      }
    },
    {
      "cell_type": "markdown",
      "source": [
        "5.- Programa en Python que lea 2 números enteros, usar una condición y analizar los dos números y desplegar cual de los números es el mayor."
      ],
      "metadata": {
        "id": "8tGBkDNfCMGd"
      }
    },
    {
      "cell_type": "code",
      "source": [
        "num1 = int(input(\"Dame un numero (entero): \\n\"))\n",
        "num2 = int(input(\"Dame otro numero (entero): \\n\"))\n",
        "\n",
        "if num1 > num2:\n",
        "  print(f\"El numero mayor es el numero 1: {num1}\")\n",
        "else:\n",
        "  print(f\"El numero mayor es el numero 2: {num2}\")"
      ],
      "metadata": {
        "colab": {
          "base_uri": "https://localhost:8080/"
        },
        "id": "mv2_I3ZqCM9z",
        "outputId": "40948af3-a659-4691-924b-ff166b4e7167"
      },
      "execution_count": 43,
      "outputs": [
        {
          "output_type": "stream",
          "name": "stdout",
          "text": [
            "Dame un numero (entero): \n",
            "2\n",
            "Dame otro numero (entero): \n",
            "5\n",
            "El numero mayor es el numero 2: 5\n"
          ]
        }
      ]
    },
    {
      "cell_type": "markdown",
      "source": [
        "6.- Programa en Python que lea 4 calificaciones de un alumno, calcular y desplegar el promedio acompañado de la leyenda APROBADO o REPROBADO"
      ],
      "metadata": {
        "id": "UENx0-toC7-i"
      }
    },
    {
      "cell_type": "code",
      "source": [
        "cal1 = int(input(\"Dame la calificacion 1: \\n\"))\n",
        "cal2 = int(input(\"Dame la calificacion 2: \\n\"))\n",
        "cal3 = int(input(\"Dame la calificacion 3: \\n\"))\n",
        "cal4 = int(input(\"Dame la calificacion 4: \\n\"))\n",
        "\n",
        "prom = (cal1 + cal2 + cal3 + cal4) / 4\n",
        "\n",
        "print(f\"\\n El promedio del alumno es: {prom}\")\n",
        "\n",
        "if prom < 60:\n",
        "  print(\"\\n El alumno esta REPROBADO\")\n",
        "else:\n",
        "  print(\"\\n El alumno esta APROBADO\")"
      ],
      "metadata": {
        "colab": {
          "base_uri": "https://localhost:8080/"
        },
        "id": "2FPMiu2qC-tp",
        "outputId": "ae610174-27a8-4cfa-dca5-2e4d8adfd960"
      },
      "execution_count": 47,
      "outputs": [
        {
          "output_type": "stream",
          "name": "stdout",
          "text": [
            "Dame la calificacion 1: \n",
            "60\n",
            "Dame la calificacion 2: \n",
            "60\n",
            "Dame la calificacion 3: \n",
            "60\n",
            "Dame la calificacion 4: \n",
            "60\n",
            "\n",
            " El promedio del alumno es: 60.0\n",
            "\n",
            " El alumno esta APROBADO\n"
          ]
        }
      ]
    },
    {
      "cell_type": "markdown",
      "source": [
        "7.- Programa en Python que a través de opciones (1.- HOMBRE 2.- MUJER ) preguntar al usuario cual es su sexo y desplegar la leyenda “HOMBRE ”, “MUJER”"
      ],
      "metadata": {
        "id": "nq_JL1-tDymE"
      }
    },
    {
      "cell_type": "code",
      "source": [
        "print(\"¿Cual es su sexo?\")\n",
        "print(\"1.- HOMBRE\")\n",
        "print(\"2.- MUJER\")\n",
        "\n",
        "sexo = int(input( \"eliga un numero porfavor: \\n\"))\n",
        "\n",
        "if sexo == 1:\n",
        "  print(\"\\n Eligio: HOMBRE\")\n",
        "else:\n",
        "  if sexo == 2:\n",
        "    print(\"\\n Eligio: MUJER\")\n",
        "  else:\n",
        "    print(\"\\n -- OPCION INVALIDA --\")"
      ],
      "metadata": {
        "colab": {
          "base_uri": "https://localhost:8080/"
        },
        "id": "pO_b4mj8Dzlv",
        "outputId": "3e4ba2f6-cfb1-4508-9d2a-8810afc0b85c"
      },
      "execution_count": 55,
      "outputs": [
        {
          "output_type": "stream",
          "name": "stdout",
          "text": [
            "¿Cual es su sexo?\n",
            "1.- HOMBRE\n",
            "2.- MUJER\n",
            "eliga un numero porfavor: \n",
            "78767\n",
            "-- OPCION INVALIDA --\n"
          ]
        }
      ]
    },
    {
      "cell_type": "markdown",
      "source": [
        "8.- Programa en Python que lea un número entero, y desplegar si el número es “PAR” o “IMPAR” NOTA: EJERCICIOS PARA SER RESUELTOS USANDO EXCLUSIVAMENTE CONDICIONES COMPUESTO"
      ],
      "metadata": {
        "id": "oArkv0k9Eq4U"
      }
    },
    {
      "cell_type": "code",
      "source": [
        "num = int(input(\"Dame un numero entero: \\n\"))\n",
        "\n",
        "if num % 2 == 0:\n",
        "  print(\"\\n El numero es PAR\")\n",
        "else:\n",
        "  print(\"\\n El numero es IMPAR\")"
      ],
      "metadata": {
        "colab": {
          "base_uri": "https://localhost:8080/"
        },
        "id": "giyGyXqoErg1",
        "outputId": "21c5b7e8-cc59-491c-9279-b6c7da365e63"
      },
      "execution_count": 59,
      "outputs": [
        {
          "output_type": "stream",
          "name": "stdout",
          "text": [
            "Dame un numero entero: \n",
            "23453451\n",
            "\n",
            " El numero es IMPAR\n"
          ]
        }
      ]
    }
  ]
}