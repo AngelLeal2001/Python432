{
  "nbformat": 4,
  "nbformat_minor": 0,
  "metadata": {
    "colab": {
      "provenance": [],
      "authorship_tag": "ABX9TyNNq+TJLSjXeUU0IZEOvA/T",
      "include_colab_link": true
    },
    "kernelspec": {
      "name": "python3",
      "display_name": "Python 3"
    },
    "language_info": {
      "name": "python"
    }
  },
  "cells": [
    {
      "cell_type": "markdown",
      "metadata": {
        "id": "view-in-github",
        "colab_type": "text"
      },
      "source": [
        "<a href=\"https://colab.research.google.com/github/AngelLeal2001/Python432/blob/main/AILJ_PY_ACT4.ipynb\" target=\"_parent\"><img src=\"https://colab.research.google.com/assets/colab-badge.svg\" alt=\"Open In Colab\"/></a>"
      ]
    },
    {
      "cell_type": "markdown",
      "source": [
        "##A C T I V I D A D - 4\n",
        "LENGUAJE DE PROGRAMACION PYTHON\n",
        "\n",
        "Angel Ignacio Leal Juarez\n",
        "\n",
        "Fecha: 3 de septiembre del 2023\n",
        "\n",
        "USANDO TRY / EXCEPT\n",
        "\n",
        "Github: https://github.com/AngelLeal2001/Python432.git"
      ],
      "metadata": {
        "id": "LnfvK9Qs9h--"
      }
    },
    {
      "cell_type": "markdown",
      "source": [
        "1.- Programa en python   que lea 3 calificaciones calcule el promedio del alumno y desplegar:\n",
        "\n",
        "Si prom < 30 Repetir\n",
        "\n",
        "Si prom >=30 y prom <60 extraordinario\n",
        "\n",
        "Si prom >=60 y prom <70 suficiente\n",
        "\n",
        "Si prom >=70 y prom <80 Regular\n",
        "\n",
        "Si prom >=80 y prom <90 bien\n",
        "\n",
        "Si prom >=90 y prom <98 muy bien\n",
        "\n",
        "Si prom >=98 y prom <=100 excelente\n",
        "\n",
        "Si prom >100 Error en promedio\n",
        "\n",
        "Realizar el algoritmo optimizado"
      ],
      "metadata": {
        "id": "zp6N8VDo-KP1"
      }
    },
    {
      "cell_type": "code",
      "execution_count": null,
      "metadata": {
        "id": "8mnM8SAQ0RlF",
        "colab": {
          "base_uri": "https://localhost:8080/"
        },
        "outputId": "241935bc-ee15-4fc2-f640-54d77d0651a4"
      },
      "outputs": [
        {
          "output_type": "stream",
          "name": "stdout",
          "text": [
            "Dame la primera calificacion: a\n",
            "\n",
            "Error: tiene que ser un valor entre 0 y 100\n",
            "   -------------------------\n",
            "Dame la primera calificacion: 100\n",
            "Dame la segunda calificacion: -2\n",
            "\n",
            "Error: tiene que ser un valor entre 0 y 100\n",
            "   -------------------------\n",
            "Dame la primera calificacion: 100\n",
            "Dame la segunda calificacion: 100\n",
            "Dame la tercera calificacion: 100\n",
            "\n",
            "El promedio es de:  100.0\n",
            "\n",
            "Excelente\n"
          ]
        }
      ],
      "source": [
        "def inicio():\n",
        "\n",
        "    try:\n",
        "        cal1 = int(input(\"Dame la primera calificacion: \"))\n",
        "        if cal1 < 0 or cal1 > 100:\n",
        "            raise ValueError()\n",
        "\n",
        "        cal2 = int(input(\"Dame la segunda calificacion: \"))\n",
        "        if cal2 < 0 or cal2 > 100:\n",
        "            raise ValueError()\n",
        "\n",
        "        cal3 = int(input(\"Dame la tercera calificacion: \"))\n",
        "        if cal3 < 0 or cal3 > 100:\n",
        "            raise ValueError()\n",
        "\n",
        "        prom = ( cal1 + cal2 + cal3 ) / 3\n",
        "\n",
        "    except ValueError:\n",
        "        print(\"\\nError: tiene que ser un valor entre 0 y 100\")\n",
        "        print(\"   -------------------------\")\n",
        "        inicio()\n",
        "\n",
        "    else:\n",
        "        print(\"\\nEl promedio es de: \",prom)\n",
        "\n",
        "        if prom < 30:\n",
        "            print(\"\\nRepetir\")\n",
        "        elif prom < 60:\n",
        "            print(\"\\nExtraordinario\")\n",
        "        elif prom < 70:\n",
        "            print(\"\\nSuficiente\")\n",
        "        elif prom < 80:\n",
        "            print(\"\\nRegular\")\n",
        "        elif prom < 90:\n",
        "            print(\"\\nBien\")\n",
        "        elif prom < 98:\n",
        "            print(\"\\nMuy bien\")\n",
        "        elif prom <= 100:\n",
        "            print(\"\\nExcelente\")\n",
        "        else:\n",
        "            print(\"\\nError de promedio\")\n",
        "\n",
        "\n",
        "inicio()"
      ]
    },
    {
      "cell_type": "markdown",
      "source": [
        "2.- Programa en Python que sirva para calcular el salario semanal de un trabajador donde se obtiene como dato de entrada las horas semanales trabajadas, el salario por hora.\n",
        "\n",
        "El programa deberá calcular el salario normal, salario extra y salario total, considerando lo siguiente:\n",
        "\n",
        "Jornada Normal de 40 horas.\n",
        "El salario normal se considera las horas trabajadas menores o igual a la jornada normal\n",
        "Salario extra se considera las horas trabajadas mayores a la jornada normal y se pagan dobles las primeras 9 y triples a partir de la décima hora extra\n",
        "\n",
        "\n",
        "Nota: Desplegar todos los datos (Salario x hora, Horas Trabajadas, Salario normal, Salario extra y Salario Total)"
      ],
      "metadata": {
        "id": "CVjpuHJpKeeb"
      }
    },
    {
      "cell_type": "code",
      "source": [
        "try:\n",
        "    horas = int(input(\"Horas trabajadas semanalmente: \"))\n",
        "    if horas < 0:\n",
        "        raise (TypeError)\n",
        "\n",
        "    salhora = int(input(\"Salario por hora: \"))\n",
        "    if salhora < 0:\n",
        "        raise (TypeError)\n",
        "\n",
        "    saln = salhora * horas\n",
        "\n",
        "except ValueError:\n",
        "    print(\"\\nError: tiene que ser un numero\")\n",
        "except TypeError:\n",
        "    print(\"\\nError: tiene que ser entero\")\n",
        "except:\n",
        "    print(\"Error\")\n",
        "\n",
        "else:\n",
        "    if horas > 49:\n",
        "        salex = ((salhora * 9) * 2) + ((salhora * (horas - 49)) * 3)\n",
        "        salt = saln + salex\n",
        "        print(f\"\\nsalario por hora: {salhora}\")\n",
        "        print(f\"horas trabajadas: {horas}\")\n",
        "        print(f\"Salario normal: {saln}\")\n",
        "        print(f\"salario extra: {salex}\")\n",
        "        print(f\"salario total: {salt}\")\n",
        "\n",
        "    elif horas > 40:\n",
        "        salex = (salhora * (horas - 40) * 2)\n",
        "        salt = saln + salex\n",
        "        print(f\"\\nsalario por hora: {salhora}\")\n",
        "        print(f\"horas trabajadas: {horas}\")\n",
        "        print(f\"Salario normal: {saln}\")\n",
        "        print(f\"salario extra: {salex}\")\n",
        "        print(f\"salario total: {salt}\")\n",
        "\n",
        "    else:\n",
        "        salt = saln\n",
        "        print(f\"\\nsalario por hora: {salhora}\")\n",
        "        print(f\"horas trabajadas: {horas}\")\n",
        "        print(f\"Salario normal: {saln}\")\n",
        "        print(\"Salario extra: 0\")\n",
        "        print(f\"salario total: {salt}\")"
      ],
      "metadata": {
        "colab": {
          "base_uri": "https://localhost:8080/"
        },
        "id": "Pnhdic21Kfa6",
        "outputId": "2f314302-1f04-433f-89f3-372fb0be3aaf"
      },
      "execution_count": null,
      "outputs": [
        {
          "output_type": "stream",
          "name": "stdout",
          "text": [
            "Horas trabajadas semanalmente: 50\n",
            "Salario por hora: 20\n",
            "\n",
            "salario por hora: 20\n",
            "horas trabajadas: 50\n",
            "Salario normal: 1000\n",
            "salario extra: 420\n",
            "salario total: 1420\n"
          ]
        }
      ]
    },
    {
      "cell_type": "markdown",
      "source": [
        "3.- Programa en Python que sirva para calcular el Total a pagar por consumo de agua, donde el dato de entrada son los M3 de agua consumidos, Tomar en cuenta que se cobra escalonada de la Siguiente manera:\n",
        "\n",
        "Rango1: 0 al 4 M3 $50 x facturación sin importar cuánto consumió en este rango\n",
        "\n",
        "Rango2: 5 a 15 M3 $8.00 x M3\n",
        "\n",
        "Rango3: 16 a 50 M3 $10.00 x M3\n",
        "\n",
        "Rango4: 51 M3 en adelante $11.00 x M3\n",
        "\n",
        "Nota: Desplegar SubTotal, Iva(16%), y Total a pagar."
      ],
      "metadata": {
        "id": "pl81S8HGw-fh"
      }
    },
    {
      "cell_type": "code",
      "source": [
        "try:\n",
        "    m3 = int(input(\"Metros cubicos de agua consumidos: \"))\n",
        "\n",
        "    if m3 < 0:\n",
        "        raise (TypeError)\n",
        "\n",
        "except ValueError:\n",
        "    print(\"\\nError: tiene que ser un numero\")\n",
        "\n",
        "except TypeError:\n",
        "    print(\"\\nError: tiene que ser entero\")\n",
        "\n",
        "else:\n",
        "\n",
        "    if m3 <= 4:\n",
        "        iva = 50 * .16\n",
        "        total = 50 + iva\n",
        "        print(\"\\nSubtotal: $50\")\n",
        "        print(f\"\\nIVA: ${iva}\")\n",
        "        print(f\"\\nTOTAL: ${total}\")\n",
        "    elif m3 <= 15:\n",
        "        subtotal = 50 + ((m3 - 4) * 8)\n",
        "        iva = subtotal * .16\n",
        "        total = subtotal + iva\n",
        "        print(f\"\\nSubtotal: ${subtotal}\")\n",
        "        print(f\"\\nIVA: ${iva}\")\n",
        "        print(f\"\\nTOTAL: ${total}\")\n",
        "    elif m3 <= 50:\n",
        "        subtotal = 50 + 88 + ((m3 - 15) * 10)\n",
        "        iva = subtotal * .16\n",
        "        total = subtotal + iva\n",
        "        print(f\"\\nSubtotal: ${subtotal}\")\n",
        "        print(f\"\\nIVA: ${iva}\")\n",
        "        print(f\"\\nTOTAL: ${total}\")\n",
        "    elif m3 > 50:\n",
        "        subtotal = 50 + 88 + 250 + ((m3 - 50) * 11)\n",
        "        iva = subtotal * .16\n",
        "        total = subtotal + iva\n",
        "        print(f\"\\nSubtotal: ${subtotal}\")\n",
        "        print(f\"\\nIVA: ${iva}\")\n",
        "        print(f\"\\nTOTAL: ${total}\")"
      ],
      "metadata": {
        "colab": {
          "base_uri": "https://localhost:8080/"
        },
        "id": "RA8IpwhQ7Wfn",
        "outputId": "7dc35e2b-3c4a-4fb6-8ded-e1b17bce4480"
      },
      "execution_count": null,
      "outputs": [
        {
          "output_type": "stream",
          "name": "stdout",
          "text": [
            "Metros cubicos de agua consumidos: a\n",
            "\n",
            "Error: tiene que ser un numero\n"
          ]
        }
      ]
    },
    {
      "cell_type": "markdown",
      "source": [
        "4- En la materia de Metodología de la programación se aplican 5 exámenes, calcular el promedio final de la materia donde la calificación menor de los exámenes se anula y el promedio se calcula en base a 4 exámenes.\n",
        "\n",
        "Desplegar el promedio final. y cual es la mas baja que se elimino."
      ],
      "metadata": {
        "id": "vrL0KHOS6_3Q"
      }
    },
    {
      "cell_type": "code",
      "source": [
        "try:\n",
        "    cal1 = int(input(\"Calificacion del examen 1: \"))\n",
        "    if cal1 < 0:\n",
        "        raise (TypeError)\n",
        "\n",
        "    cal2 = int(input(\"Calificacion del examen 2: \"))\n",
        "    if cal2 < 0:\n",
        "        raise (TypeError)\n",
        "\n",
        "    cal3 = int(input(\"Calificacion del examen 3: \"))\n",
        "    if cal3 < 0:\n",
        "        raise (TypeError)\n",
        "\n",
        "    cal4 = int(input(\"Calificacion del examen 4: \"))\n",
        "    if cal4 < 0:\n",
        "        raise (TypeError)\n",
        "\n",
        "    cal5 = int(input(\"Calificacion del examen 5: \"))\n",
        "    if cal5 < 0:\n",
        "        raise (TypeError)\n",
        "\n",
        "except TypeError:\n",
        "    print(\"\\nERROR: El numero tiene que ser entero\")\n",
        "\n",
        "except ValueError:\n",
        "    print(\"\\nERROR: Tiene que ser un numero\")\n",
        "\n",
        "else:\n",
        "    menor = 100\n",
        "\n",
        "    if cal1 < menor:\n",
        "        menor = cal1\n",
        "\n",
        "    if cal2 < menor:\n",
        "        menor = cal2\n",
        "\n",
        "    if cal3 < menor:\n",
        "        menor = cal3\n",
        "\n",
        "    if cal4 < menor:\n",
        "        menor = cal4\n",
        "\n",
        "    if cal5 < menor:\n",
        "        menor = cal5\n",
        "\n",
        "    print(\"\\nla calificacion menor que se elimino es :\", menor)\n",
        "    prom = (cal1 + cal2 + cal3 + cal4 + cal5 - menor) / 4\n",
        "    print(\"\\nEl promedio de los examenes es de: \", prom)"
      ],
      "metadata": {
        "colab": {
          "base_uri": "https://localhost:8080/"
        },
        "id": "yQ984xak7DIL",
        "outputId": "8343e8d4-f892-4a4d-bc3b-64c781a4f6ce"
      },
      "execution_count": null,
      "outputs": [
        {
          "output_type": "stream",
          "name": "stdout",
          "text": [
            "Calificacion del examen 1: 0\n",
            "Calificacion del examen 2: 0\n",
            "Calificacion del examen 3: 0\n",
            "Calificacion del examen 4: 0\n",
            "Calificacion del examen 5: 0\n",
            "\n",
            "la calificacion menor que se elimino es : 0\n",
            "\n",
            "El promedio de los examenes es de:  0.0\n"
          ]
        }
      ]
    },
    {
      "cell_type": "markdown",
      "source": [
        "5.- Programa en Python que sirva para el juego del CHINCHAMPU (Piedra, Papel, Tijera) para 1 jugador y la computadora"
      ],
      "metadata": {
        "id": "uHXa-0PZ93qB"
      }
    },
    {
      "cell_type": "code",
      "source": [
        "import random\n",
        "print(\"1.- Piedra\")\n",
        "print(\"2.- Papel\")\n",
        "print(\"3.- Tijeras\")\n",
        "try:\n",
        "    opcion = int(input(\"Eliga una opcion: \"))\n",
        "    if opcion < 0 or opcion > 3:\n",
        "        raise(TypeError)\n",
        "\n",
        "except TypeError:\n",
        "    print(\"\\nERROR: tiene que ser un numero entre el 1 y 3\")\n",
        "\n",
        "except ValueError:\n",
        "    print(\"\\nERROR: Tiene que ser un numero\")\n",
        "\n",
        "else:\n",
        "\n",
        "    jug2 = random.randint(1, 3)\n",
        "\n",
        "    if opcion == 1:\n",
        "        if jug2 == 1:\n",
        "            print(\"\\nEMPATE\")\n",
        "            print(\"Los 2 eligieron piedra\")\n",
        "        else:\n",
        "            if jug2 == 2:\n",
        "                print(\"\\nPERDISTE\")\n",
        "                print(\"Papel gana a Piedra\")\n",
        "            else:\n",
        "                if jug2 == 3:\n",
        "                    print(\"\\nGANASTE\")\n",
        "                    print(\"Piedra gana a Tijeras\")\n",
        "\n",
        "    if opcion == 2:\n",
        "        if jug2 == 1:\n",
        "            print(\"\\nGANASTE\")\n",
        "            print(\"Papel gana a piedra\")\n",
        "        else:\n",
        "            if jug2 == 2:\n",
        "                print(\"\\nEMPATE\")\n",
        "                print(\"Los 2 eligieron papel\")\n",
        "            else:\n",
        "                if jug2 == 3:\n",
        "                    print(\"\\nPERDISTE\")\n",
        "                    print(\"Tijeras gana a papel\")\n",
        "\n",
        "    if opcion == 3:\n",
        "        if jug2 == 1:\n",
        "            print(\"\\nPERDISTE\")\n",
        "            print(\"Piedra gana a tijeras\")\n",
        "        else:\n",
        "            if jug2 == 2:\n",
        "                print(\"\\nGANASTE\")\n",
        "                print(\"Tijeras gana a papel\")\n",
        "            else:\n",
        "                if jug2 == 3:\n",
        "                    print(\"\\nEMPATE\")\n",
        "                    print(\"Los 2 eligieron tijeras\")"
      ],
      "metadata": {
        "colab": {
          "base_uri": "https://localhost:8080/",
          "height": 0
        },
        "id": "GR0ahUH694XV",
        "outputId": "e13dd639-8c77-4aad-a4dd-7f236df0cdc0"
      },
      "execution_count": 1,
      "outputs": [
        {
          "output_type": "stream",
          "name": "stdout",
          "text": [
            "1.- Piedra\n",
            "2.- Papel\n",
            "3.- Tijeras\n",
            "Eliga una opcion: 2\n",
            "\n",
            "GANASTE\n",
            "Papel gana a piedra\n"
          ]
        }
      ]
    },
    {
      "cell_type": "markdown",
      "source": [
        "6.- Programa en Python que lea 4 números enteros desplegar cuales el menor, cual es mayor"
      ],
      "metadata": {
        "id": "7nv2WK-NuF1o"
      }
    },
    {
      "cell_type": "code",
      "source": [
        "def inicio():\n",
        "    try:\n",
        "\n",
        "        num1 = int(input(\"Dame el primer numero: \"))\n",
        "        if num1 < 0:\n",
        "            raise(TypeError)\n",
        "\n",
        "        num2 = int(input(\"Dame el segundo numero: \"))\n",
        "        if num2 < 0:\n",
        "            raise(TypeError)\n",
        "\n",
        "        num3 = int(input(\"Dame el tercero numero: \"))\n",
        "        if num3 < 0:\n",
        "            raise(TypeError)\n",
        "\n",
        "        num4 = int(input(\"Dame el cuarto numero: \"))\n",
        "        if num4 < 0:\n",
        "            raise(TypeError)\n",
        "\n",
        "    except TypeError:\n",
        "        print(\"\\nERROR: tiene que ser real\")\n",
        "        print(\"   -------------------------\")\n",
        "        inicio()\n",
        "\n",
        "    except ValueError:\n",
        "        print(\"\\nERROR: Tiene que ser un numero entero\")\n",
        "        print(\"   -------------------------\")\n",
        "        inicio()\n",
        "\n",
        "    else:\n",
        "\n",
        "        def nmayor():\n",
        "\n",
        "            mayor = num1\n",
        "\n",
        "            if num2 > mayor:\n",
        "                mayor = num2\n",
        "\n",
        "            if num3 > mayor:\n",
        "                mayor = num3\n",
        "\n",
        "            if num4 > mayor:\n",
        "                mayor = num4\n",
        "\n",
        "            print(\"\\nNumero mayor : \",mayor)\n",
        "\n",
        "        def nmenor():\n",
        "\n",
        "            menor = num1\n",
        "\n",
        "            if num2 < menor:\n",
        "                menor = num2\n",
        "\n",
        "            if num3 < menor:\n",
        "                menor = num3\n",
        "\n",
        "            if num4 < menor:\n",
        "                menor = num4\n",
        "\n",
        "            print(\"\\nNumero menor : \",menor)\n",
        "\n",
        "        nmayor()\n",
        "\n",
        "        nmenor()\n",
        "\n",
        "inicio()"
      ],
      "metadata": {
        "id": "n60gfxZruIL3",
        "colab": {
          "base_uri": "https://localhost:8080/"
        },
        "outputId": "cea92349-dfed-4df0-a61b-d67434f5cdd3"
      },
      "execution_count": null,
      "outputs": [
        {
          "output_type": "stream",
          "name": "stdout",
          "text": [
            "Dame el primer numero: 2.5\n",
            "\n",
            "ERROR: Tiene que ser un numero entero\n",
            "   -------------------------\n",
            "Dame el primer numero: a\n",
            "\n",
            "ERROR: Tiene que ser un numero entero\n",
            "   -------------------------\n",
            "Dame el primer numero: -2\n",
            "\n",
            "ERROR: tiene que ser real\n",
            "   -------------------------\n",
            "Dame el primer numero: 4\n",
            "Dame el segundo numero: 5\n",
            "Dame el tercero numero: 1\n",
            "Dame el cuarto numero: 2\n",
            "\n",
            "Numero mayor :  5\n",
            "\n",
            "Numero menor :  1\n"
          ]
        }
      ]
    },
    {
      "cell_type": "markdown",
      "source": [
        "7.- Programa en Python que sirva para calcular el área de un triangulo, los datos de entrada deben ser forzosamente de tipo real"
      ],
      "metadata": {
        "id": "hBSeNbZGAgBa"
      }
    },
    {
      "cell_type": "code",
      "source": [
        "try:\n",
        "    base = float(input(\"Dame el valor de la base (numero real) : \"))\n",
        "    if base==complex:\n",
        "        raise (ValueError)\n",
        "\n",
        "    altura = float(input(\"Dame el valor de la altura (numero real) : \"))\n",
        "    if base==complex:\n",
        "        raise (ValueError)\n",
        "\n",
        "except ValueError:\n",
        "    print(\"\\nERROR: tiene que ser un numero real\")\n",
        "\n",
        "else:\n",
        "    area = (base * altura) / 2\n",
        "\n",
        "    print(\"\\nEl area del triangulo es de : \", area)"
      ],
      "metadata": {
        "colab": {
          "base_uri": "https://localhost:8080/"
        },
        "id": "eSmdXWTaAgs9",
        "outputId": "d5b9ed68-64e9-4593-8b69-239de967edf1"
      },
      "execution_count": null,
      "outputs": [
        {
          "output_type": "stream",
          "name": "stdout",
          "text": [
            "Dame el valor de la base (numero real) : 3245324\n",
            "Dame el valor de la altura (numero real) : 2.55\n",
            "\n",
            "El area del triangulo es de :  4137788.0999999996\n"
          ]
        }
      ]
    },
    {
      "cell_type": "markdown",
      "source": [
        "8.- Programa en Python que sirva para calcular el área de un circulo"
      ],
      "metadata": {
        "id": "jvyZZz00RWx3"
      }
    },
    {
      "cell_type": "code",
      "source": [
        "def inicio():\n",
        "    try:\n",
        "        radio = float(input(\"Dame el radio del circulo : \"))\n",
        "        if radio==complex:\n",
        "            raise (ValueError)\n",
        "\n",
        "    except:\n",
        "        print(\"\\nERROR: tiene que ser un numero real\")\n",
        "        print(\"   ------------------------------------------------------\")\n",
        "        inicio()\n",
        "\n",
        "    else:\n",
        "        area = 3.1416 * (radio * radio)\n",
        "\n",
        "        print(\"\\nEl area del circulo es : \", area)\n",
        "\n",
        "inicio()"
      ],
      "metadata": {
        "colab": {
          "base_uri": "https://localhost:8080/"
        },
        "id": "-I7fW4TwRZYf",
        "outputId": "87b31fb4-6aa2-422e-de50-25549b8627b8"
      },
      "execution_count": null,
      "outputs": [
        {
          "output_type": "stream",
          "name": "stdout",
          "text": [
            "Dame el radio del circulo : f\n",
            "\n",
            "ERROR: tiene que ser un numero real\n",
            "   ------------------------------------------------------\n",
            "Dame el radio del circulo : 5\n",
            "\n",
            "El area del circulo es :  78.53999999999999\n"
          ]
        }
      ]
    }
  ]
}