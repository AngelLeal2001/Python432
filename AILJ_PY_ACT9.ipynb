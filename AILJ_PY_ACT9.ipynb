{
  "nbformat": 4,
  "nbformat_minor": 0,
  "metadata": {
    "colab": {
      "provenance": [],
      "authorship_tag": "ABX9TyMRnym5jGXZfh/4vAHaWBg0",
      "include_colab_link": true
    },
    "kernelspec": {
      "name": "python3",
      "display_name": "Python 3"
    },
    "language_info": {
      "name": "python"
    }
  },
  "cells": [
    {
      "cell_type": "markdown",
      "metadata": {
        "id": "view-in-github",
        "colab_type": "text"
      },
      "source": [
        "<a href=\"https://colab.research.google.com/github/AngelLeal2001/Python432/blob/main/AILJ_PY_ACT9.ipynb\" target=\"_parent\"><img src=\"https://colab.research.google.com/assets/colab-badge.svg\" alt=\"Open In Colab\"/></a>"
      ]
    },
    {
      "cell_type": "code",
      "source": [
        "import random\n",
        "from IPython.display import clear_output\n",
        "\n",
        "clear_output()"
      ],
      "metadata": {
        "id": "zdXASg_ZdSRD"
      },
      "execution_count": 1,
      "outputs": []
    },
    {
      "cell_type": "code",
      "execution_count": 2,
      "metadata": {
        "id": "i5oAmUP_WLzu"
      },
      "outputs": [],
      "source": [
        "def vali_num(ri, rf, msg, msgerror1, msgerror2):\n",
        "\n",
        "    while True:\n",
        "        try:\n",
        "            numx = int(input(msg))\n",
        "\n",
        "            if numx < ri or numx > rf:\n",
        "                raise(TypeError)\n",
        "\n",
        "        except TypeError:\n",
        "            clear_output()\n",
        "            print(msgerror1)\n",
        "            continue\n",
        "\n",
        "        except ValueError:\n",
        "            clear_output()\n",
        "            print(msgerror2)\n",
        "            continue\n",
        "\n",
        "        return numx"
      ]
    },
    {
      "cell_type": "code",
      "source": [
        "i=0\n",
        "lista_id=[]\n",
        "\n",
        "while True:\n",
        "    clear_output()\n",
        "    print(\"----MENU----\")\n",
        "    print(\"1.- Crear nuevo diccionario\")\n",
        "    print(\"2.- Imprimir diccionario\")\n",
        "    print(\"0.-Salir\")\n",
        "    op = vali_num(0,2, \"\\nElige una opcion: \", \"No existe esa opcion\", \"ERROR: debe ser un numero entero\")\n",
        "\n",
        "    if op == 1:\n",
        "        nuevo_dic(lista_id)\n",
        "        continue\n",
        "    elif op == 2:\n",
        "        imp_dict(lista_id)\n",
        "        continue\n",
        "    else:\n",
        "        print(\"hasta luego\")\n",
        "        break"
      ],
      "metadata": {
        "colab": {
          "base_uri": "https://localhost:8080/"
        },
        "id": "LwjtDEtWiu94",
        "outputId": "22ceb5d0-1d06-4c9f-fbeb-987b9664e56b"
      },
      "execution_count": null,
      "outputs": [
        {
          "output_type": "stream",
          "name": "stdout",
          "text": [
            "ID del diccionario que desea imprimir: 0\n",
            "Nombre:  Leonardo\n",
            "Apellido paterno:  Madrigal\n",
            "Apellido materno:  Osuna\n",
            "Edad:  19\n",
            "Sexo:  hombre\n"
          ]
        }
      ]
    },
    {
      "cell_type": "code",
      "source": [
        "def nuevo_dic(lista_id):\n",
        "    clear_output()\n",
        "    dic = {}\n",
        "\n",
        "    i=len(lista_id)\n",
        "\n",
        "    lh_nombres=[\"Angel\",\"Ramon\", \"Miguel\", \"Pablo\", \"Enrique\", \"Jesus\", \"Luis\", \"Alberto\", \"Juan\", \"Leon\", \"Jose\", \"Manuel\", \"Cristian\", \"Jorge\", \"Brian\", \"Mariano\", \"Victor\", \"Abraham\", \"Carlos\", \"Pepe\", \"Leonardo\", \"Alfonso\", \"Alfredo\", \"Ivan\", \"Antonio\", \"Ernesto\", \"Santiago\", \"Raul\"]\n",
        "    lm_nombres=[\"Maria\", \"Angela\", \"Ana\", \"Mariana\", \"Luz\", \"Elizabeth\", \"Paola\", \"Itzel\", \"Monserrat\", \"Nailea\", \"Blanca\", \"Dulce\", \"Patricia\", \"Thamara\", \"Ema\", \"Damaris\", \"Nicole\", \"Samanta\", \"Bered\", \"Araceli\", \"Nancy\", \"Paloma\", \"Estrella\", \"Mariana\", \"Ivette\", \"Flor\", \"Alexa\"]\n",
        "    l_apellidos=[\"Leal\", \"Gonzales\", \"Zepeda\", \"Morales\", \"Barajas\", \"Cardenas\", \"Lopez\", \"Gutierrez\", \"Juarez\", \"Ornelas\", \"Orantes\", \"Dominguez\", \"Vazquez\", \"Osuna\", \"Madrigal\", \"Azarcoya\", \"Fuentes\", \"Oliveros\", \"Figueroa\", \"Cervantes\", \"De la rosa\", \"Jimenez\", \"Romo\", \"Hernandez\"]\n",
        "\n",
        "    sexo=random.randint(1,2)\n",
        "    if sexo == 1:\n",
        "        dic[\"nombre\"] = lh_nombres[random.randint(0,len(lh_nombres)-1)]\n",
        "        sexo = str(\"hombre\")\n",
        "    else:\n",
        "        dic[\"nombre\"] = lm_nombres[random.randint(0,len(lm_nombres)-1)]\n",
        "        sexo = str(\"mujer\")\n",
        "\n",
        "    dic[\"appat\"] = l_apellidos[random.randint(0,len(l_apellidos)-1)]\n",
        "    dic[\"apmat\"]  = l_apellidos[random.randint(0,len(l_apellidos)-1)]\n",
        "    dic[\"edad\"] = random.randint(15,50)\n",
        "    dic[\"sexo\"] = sexo\n",
        "\n",
        "    lista_id.append(dic)\n",
        "\n",
        "    id = i\n",
        "\n",
        "    print(f\"id : {id}\")\n",
        "    input(\"\\n----oprime enter para avanzar----\")\n",
        "\n",
        "    return lista_id"
      ],
      "metadata": {
        "id": "qP0PHES350KI"
      },
      "execution_count": 3,
      "outputs": []
    },
    {
      "cell_type": "code",
      "source": [
        "def imp_dict(lista_id):\n",
        "    clear_output()\n",
        "    idx = vali_num(0,len(lista_id)-1, \"ID del diccionario que desea imprimir: \", \"Ese diccionario no existe\", \"ERROR: debe de ser entero\")\n",
        "\n",
        "    print(\"Nombre: \",lista_id[idx][\"nombre\"])\n",
        "    print(\"Apellido paterno: \",lista_id[idx][\"appat\"])\n",
        "    print(\"Apellido materno: \", lista_id[idx][\"apmat\"])\n",
        "    print(\"Edad: \",lista_id[idx][\"edad\"])\n",
        "    print(\"Sexo: \", lista_id[idx][\"sexo\"])\n",
        "\n",
        "    input(\"\\n----oprime enter para avanzar----\")"
      ],
      "metadata": {
        "id": "wbXU9DPam6Sd"
      },
      "execution_count": 4,
      "outputs": []
    }
  ]
}