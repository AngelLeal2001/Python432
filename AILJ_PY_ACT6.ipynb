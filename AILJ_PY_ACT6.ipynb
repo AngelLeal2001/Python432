{
  "nbformat": 4,
  "nbformat_minor": 0,
  "metadata": {
    "colab": {
      "provenance": [],
      "authorship_tag": "ABX9TyPWzfpBF1ImP4HoMqyMvzSs",
      "include_colab_link": true
    },
    "kernelspec": {
      "name": "python3",
      "display_name": "Python 3"
    },
    "language_info": {
      "name": "python"
    }
  },
  "cells": [
    {
      "cell_type": "markdown",
      "metadata": {
        "id": "view-in-github",
        "colab_type": "text"
      },
      "source": [
        "<a href=\"https://colab.research.google.com/github/AngelLeal2001/Python432/blob/main/AILJ_PY_ACT6.ipynb\" target=\"_parent\"><img src=\"https://colab.research.google.com/assets/colab-badge.svg\" alt=\"Open In Colab\"/></a>"
      ]
    },
    {
      "cell_type": "markdown",
      "source": [
        "#A C T I V I D A D - 6\n",
        "LENGUAJE DE PROGRAMACION PYTHON\n",
        "\n",
        "Angel Ignacio Leal Juarez\n",
        "\n",
        "Fecha: 19 de Septiembre del 2023\n",
        "\n",
        "Github: https://github.com/AngelLeal2001/Python432.git"
      ],
      "metadata": {
        "id": "uyUpkjGZJ45h"
      }
    },
    {
      "cell_type": "code",
      "source": [
        "import random"
      ],
      "metadata": {
        "id": "WIAJgHloP5y8"
      },
      "execution_count": null,
      "outputs": []
    },
    {
      "cell_type": "markdown",
      "source": [
        "1.- FUNCIÓN QUE LEA n CANTIDAD DE NÚMEROS HASTA QUE EL USUARIO LO DESEE, DESPLEGAR LA SUMA DE LOS NÚMEROS, MEDIA Y VALOR DE LOS NÚMEROS MAYORES Y MENORES."
      ],
      "metadata": {
        "id": "DphATL5JKOj_"
      }
    },
    {
      "cell_type": "code",
      "execution_count": null,
      "metadata": {
        "colab": {
          "base_uri": "https://localhost:8080/"
        },
        "id": "Q0jFhuLjJz0G",
        "outputId": "c83f54ae-b789-476b-f8bd-13adf6fbaa98"
      },
      "outputs": [
        {
          "output_type": "stream",
          "name": "stdout",
          "text": [
            "Dame un numero (0 para salir) : 0\n",
            "\n",
            "ERROR: No se agrego ningun numero\n",
            "--------------------------------------\n",
            "Dame un numero (0 para salir) : 5\n",
            "Dame un numero (0 para salir) : 0\n",
            "------------------------------------\n",
            "La suma de los numeros es : 5\n",
            "La media de los numero es : 5.0\n",
            "Numero mayor : 5\n",
            "Numero menor : 5\n"
          ]
        }
      ],
      "source": [
        "def suma_media():\n",
        "    suma = 0\n",
        "    n=0\n",
        "    mayor = 0\n",
        "    menor = 999\n",
        "    try:\n",
        "        while True:\n",
        "            num = int(input(\"Dame un numero (0 para salir) : \"))\n",
        "\n",
        "            if num < 0:\n",
        "                raise (TypeError)\n",
        "\n",
        "            if num == 0:\n",
        "                break\n",
        "            if num < menor:\n",
        "                menor = num\n",
        "\n",
        "            if num > mayor:\n",
        "                mayor = num\n",
        "\n",
        "            suma = suma + num\n",
        "            n+=1\n",
        "\n",
        "    except TypeError:\n",
        "        print(\"ERROR, no debe de ser menor a 0\")\n",
        "        print(\"------------------------------------\")\n",
        "\n",
        "    else:\n",
        "        try:\n",
        "            media = suma / n\n",
        "        except ZeroDivisionError:\n",
        "            print(\"\\nERROR: No se agrego ningun numero\")\n",
        "            print(\"--------------------------------------\")\n",
        "            suma_media()\n",
        "\n",
        "        else:\n",
        "            print(\"------------------------------------\")\n",
        "            print(f\"La suma de los numeros es : {suma}\")\n",
        "            print(f\"La media de los numero es : {media}\")\n",
        "            print(f\"Numero mayor : {mayor}\")\n",
        "            print(f\"Numero menor : {menor}\")\n",
        "\n",
        "suma_media()"
      ]
    },
    {
      "cell_type": "markdown",
      "source": [
        "2.- FUNCIÓN QUE GENERE 15 NÚMEROS IMPARES ENTRE 10 Y 60 o MÁXIMO DE 25 NÚMEROS. DESPLEGAR LA MEDIA DE LOS PARES Y MEDIA DE IMPARES."
      ],
      "metadata": {
        "id": "hCL6g4j3Nb2m"
      }
    },
    {
      "cell_type": "code",
      "source": [
        "def media_numeros():\n",
        "    par = 0\n",
        "    impar = 0\n",
        "    sumapar = 0\n",
        "    sumaimpar = 0\n",
        "\n",
        "    for i in range(1,26,1):\n",
        "        num = random.randint(10,60)\n",
        "\n",
        "        if impar == 15:\n",
        "            print(\"\\n- - LIMITE DE IMPARES ALCANZADO (15) - -\")\n",
        "            break\n",
        "\n",
        "        if num % 2 == 0:\n",
        "            print(i, \" - > \",num)\n",
        "            par+=1\n",
        "            sumapar = sumapar + num\n",
        "        else:\n",
        "            print(i, \" - > \",num)\n",
        "            impar+=1\n",
        "            sumaimpar = sumaimpar + num\n",
        "\n",
        "        if i == 25:\n",
        "            print(\"\\n- - LIMITE DE NUMEROS ALCANZADO (25) - -\")\n",
        "\n",
        "\n",
        "    print(\"\\nNumeros pares : \", par)\n",
        "    mediapar = sumapar / par\n",
        "    print(f\"Media de los numeros pares : {mediapar}\")\n",
        "\n",
        "    print(\"\\nNumeros impares : \", impar)\n",
        "    mediaimpar = sumaimpar / impar\n",
        "    print(f\"Media de los numeros impares : {mediaimpar}\")\n",
        "\n",
        "media_numeros()"
      ],
      "metadata": {
        "colab": {
          "base_uri": "https://localhost:8080/"
        },
        "id": "wjrhd4voNeM7",
        "outputId": "63597e4b-0bb7-438b-8776-990c328d179f"
      },
      "execution_count": null,
      "outputs": [
        {
          "output_type": "stream",
          "name": "stdout",
          "text": [
            "1  - >  33\n",
            "2  - >  32\n",
            "3  - >  41\n",
            "4  - >  36\n",
            "5  - >  11\n",
            "6  - >  24\n",
            "7  - >  21\n",
            "8  - >  30\n",
            "9  - >  29\n",
            "10  - >  32\n",
            "11  - >  54\n",
            "12  - >  10\n",
            "13  - >  42\n",
            "14  - >  56\n",
            "15  - >  32\n",
            "16  - >  31\n",
            "17  - >  36\n",
            "18  - >  55\n",
            "19  - >  55\n",
            "20  - >  21\n",
            "21  - >  16\n",
            "22  - >  59\n",
            "23  - >  56\n",
            "24  - >  57\n",
            "25  - >  30\n",
            "\n",
            "- - LIMITE DE NUMEROS ALCANZADO (25) - -\n",
            "\n",
            "Numeros pares :  14\n",
            "Media de los numeros pares : 34.714285714285715\n",
            "\n",
            "Numeros impares :  11\n",
            "Media de los numeros impares : 37.54545454545455\n"
          ]
        }
      ]
    },
    {
      "cell_type": "markdown",
      "source": [
        "3.- FUNCIÓN QUE SIRVA PARA LEER UN RANGO DADO POR EL USUARIO. REPETIR ESTA ACCIÓN HASTA QUE EL USUARIO LO DESEE, DESPLEGAR CANTIDAD DE NUMEROS Y PROMEDIO DE LOS NUMEROS.."
      ],
      "metadata": {
        "id": "g1Hgs7aMOI5Z"
      }
    },
    {
      "cell_type": "code",
      "source": [
        "def leer_rango():\n",
        "    suma = 0\n",
        "    i = 0\n",
        "    try:\n",
        "        min = int(input(\"Dame el rango minimo : \"))\n",
        "        if min < 0:\n",
        "            raise (TypeError)\n",
        "\n",
        "        max = int(input(\"Dame el rango maximo : \"))\n",
        "        if max < min:\n",
        "            raise (TypeError)\n",
        "\n",
        "    except TypeError:\n",
        "        print(\"ERROR: no debe ser menor a 0 y max no debe ser menor a min\")\n",
        "        print(\"-------------------------------------\\n\")\n",
        "        leer_rango()\n",
        "\n",
        "    except ValueError:\n",
        "        print(\"ERROR: Debe de ser un numero entero\")\n",
        "        print(\"-------------------------------------\\n\")\n",
        "        leer_rango()\n",
        "    else:\n",
        "        try:\n",
        "            while True:\n",
        "                    num = int(input(\"Dame un numero (0 para salir) : \"))\n",
        "\n",
        "                    if num == 0:\n",
        "                        break\n",
        "\n",
        "                    if num > max or num < min:\n",
        "                        raise (TypeError)\n",
        "\n",
        "                    suma = suma + num\n",
        "                    i+=1\n",
        "\n",
        "        except ValueError:\n",
        "            print(\"ERROR, Debe de ser un numero entero\")\n",
        "            print(\"-------------------------------------\\n\")\n",
        "            leer_rango()\n",
        "\n",
        "        except TypeError:\n",
        "            print(f\"ERROR: numero entre {min} y {max}\")\n",
        "            print(\"-------------------------------------\\n\")\n",
        "            leer_rango()\n",
        "\n",
        "        else:\n",
        "            try:\n",
        "                prom = suma / i\n",
        "\n",
        "            except ZeroDivisionError:\n",
        "                print(\"\\nERROR: No se agrego ningun numero\")\n",
        "                print(\"--------------------------------------\")\n",
        "                leer_rango()\n",
        "\n",
        "            else:\n",
        "                print(f\"\\nTotal de numeros : {i}\")\n",
        "                print(f\"El promedio de los numeros es : {prom}\")\n",
        "\n",
        "leer_rango()"
      ],
      "metadata": {
        "colab": {
          "base_uri": "https://localhost:8080/"
        },
        "id": "3VEDGgF4OH9b",
        "outputId": "99968ac4-fbdc-4690-8e7f-c355825c1790"
      },
      "execution_count": null,
      "outputs": [
        {
          "output_type": "stream",
          "name": "stdout",
          "text": [
            "Dame el rango minimo : 1\n",
            "Dame el rango maximo : a\n",
            "ERROR: Debe de ser un numero entero\n",
            "-------------------------------------\n",
            "\n",
            "Dame el rango minimo : 1\n",
            "Dame el rango maximo : 10\n",
            "Dame un numero (0 para salir) : 0\n",
            "\n",
            "ERROR: No se agrego ningun numero\n",
            "--------------------------------------\n",
            "Dame el rango minimo : 1\n",
            "Dame el rango maximo : 10\n",
            "Dame un numero (0 para salir) : 99\n",
            "ERROR: numero entre 1 y 10\n",
            "-------------------------------------\n",
            "\n",
            "Dame el rango minimo : 0\n",
            "Dame el rango maximo : 0\n",
            "Dame un numero (0 para salir) : 0\n",
            "\n",
            "ERROR: No se agrego ningun numero\n",
            "--------------------------------------\n",
            "Dame el rango minimo : 10\n",
            "Dame el rango maximo : 20\n",
            "Dame un numero (0 para salir) : 12421342\n",
            "ERROR: numero entre 10 y 20\n",
            "-------------------------------------\n",
            "\n",
            "Dame el rango minimo : 1\n",
            "Dame el rango maximo : 50\n",
            "Dame un numero (0 para salir) : 2\n",
            "Dame un numero (0 para salir) : 50\n",
            "Dame un numero (0 para salir) : 43\n",
            "Dame un numero (0 para salir) : 20\n",
            "Dame un numero (0 para salir) : 0\n",
            "\n",
            "Total de numeros : 4\n",
            "El promedio de los numeros es : 28.75\n"
          ]
        }
      ]
    },
    {
      "cell_type": "markdown",
      "source": [
        "4.- función que reciba como parámetro los valores para el área de un triángulo y retorne su resultado"
      ],
      "metadata": {
        "id": "5ayyVpiWVElM"
      }
    },
    {
      "cell_type": "code",
      "source": [
        "def area_triangulo():\n",
        "    try:\n",
        "        b = int(input(\"Base del triangulo : \"))\n",
        "        if b < 0:\n",
        "            raise (TypeError)\n",
        "\n",
        "        h = int(input(\"Base del triangulo : \"))\n",
        "        if h < 0:\n",
        "            raise (TypeError)\n",
        "\n",
        "    except ValueError:\n",
        "        print(\"ERROR, Debe de ser un numero entero\\n\")\n",
        "        print(\"--------------------------------------\\n\")\n",
        "        area_triangulo()\n",
        "\n",
        "    except TypeError:\n",
        "        print(\"ERROR: debe de ser un numero mayor a 0\\n\")\n",
        "        print(\"--------------------------------------\\n\")\n",
        "        area_triangulo()\n",
        "\n",
        "    else:\n",
        "        area = (b * h) / 2\n",
        "        print(f\"\\nEl area del triangulo es : {area}\")\n",
        "\n",
        "area_triangulo()"
      ],
      "metadata": {
        "colab": {
          "base_uri": "https://localhost:8080/"
        },
        "id": "pnCK1jcSVFQ4",
        "outputId": "f8f7d183-06e6-49ab-d238-28c97083571d"
      },
      "execution_count": null,
      "outputs": [
        {
          "output_type": "stream",
          "name": "stdout",
          "text": [
            "Base del triangulo : 2\n",
            "Base del triangulo : a\n",
            "ERROR, Debe de ser un numero entero\n",
            "\n",
            "--------------------------------------\n",
            "\n",
            "Base del triangulo : 67\n",
            "Base del triangulo : -2\n",
            "ERROR: debe de ser un numero mayor a 0\n",
            "\n",
            "--------------------------------------\n",
            "\n",
            "Base del triangulo : 3\n",
            "Base del triangulo : 8\n",
            "\n",
            "El area del triangulo es : 12.0\n"
          ]
        }
      ]
    },
    {
      "cell_type": "markdown",
      "source": [
        "5.- FUNCION QUE SIRVA QUE SIRVA PARA EVALUAR EL PROMEDIO DE 3 CALIFICACIONES DADAS, SI EL USUARIO SU CALIFICACION ES APROBADA MANDAR MSGE QUE DIGA \"felicidades avanzas al siguiente semestre\", SI LA CALIFICACIONE ESTA REPROBADA EL MENSAGE \"repetir materia \" EL ALUMNO TENDRA UN MAXIMO DE CURSAR 3 VESES LA MATERIA, SI LA REPRUEBA 3 VESES MANDAR MSGE \" lastima estas fuera de la UABC\""
      ],
      "metadata": {
        "id": "ZawMDY9zVmTj"
      }
    },
    {
      "cell_type": "code",
      "source": [
        "\n",
        "def cal():\n",
        "    i = 1\n",
        "    while i <= 3:\n",
        "        cal = int(input(f\"Dame la calificacion #{i}: \"))\n",
        "\n",
        "        if cal < 0 or cal > 100:\n",
        "            raise(TypeError)\n",
        "        i+=1\n",
        "        suma = suma + cal\n",
        "\n",
        "\n",
        "\n",
        "try:\n",
        "    cal()\n",
        "except TypeError:\n",
        "    print(\"La calificacion debe ser entre 1 y 100\")\n",
        "    print(\"------------------------\\n\")\n",
        "except ValueError:\n",
        "    print(\"El numero debe ser entero\")\n",
        "    print(\"------------------------\\n\")"
      ],
      "metadata": {
        "colab": {
          "base_uri": "https://localhost:8080/",
          "height": 383
        },
        "id": "U9AbSC8JVm27",
        "outputId": "cb56da3d-43e6-4a1f-c608-bd80a722ba07"
      },
      "execution_count": null,
      "outputs": [
        {
          "name": "stdout",
          "output_type": "stream",
          "text": [
            "Dame la calificacion #1: 60\n"
          ]
        },
        {
          "output_type": "error",
          "ename": "UnboundLocalError",
          "evalue": "ignored",
          "traceback": [
            "\u001b[0;31m---------------------------------------------------------------------------\u001b[0m",
            "\u001b[0;31mUnboundLocalError\u001b[0m                         Traceback (most recent call last)",
            "\u001b[0;32m<ipython-input-60-4468832dbf13>\u001b[0m in \u001b[0;36m<cell line: 13>\u001b[0;34m()\u001b[0m\n\u001b[1;32m     12\u001b[0m \u001b[0;34m\u001b[0m\u001b[0m\n\u001b[1;32m     13\u001b[0m \u001b[0;32mtry\u001b[0m\u001b[0;34m:\u001b[0m\u001b[0;34m\u001b[0m\u001b[0;34m\u001b[0m\u001b[0m\n\u001b[0;32m---> 14\u001b[0;31m     \u001b[0mcal\u001b[0m\u001b[0;34m(\u001b[0m\u001b[0;34m)\u001b[0m\u001b[0;34m\u001b[0m\u001b[0;34m\u001b[0m\u001b[0m\n\u001b[0m\u001b[1;32m     15\u001b[0m \u001b[0;32mexcept\u001b[0m \u001b[0mTypeError\u001b[0m\u001b[0;34m:\u001b[0m\u001b[0;34m\u001b[0m\u001b[0;34m\u001b[0m\u001b[0m\n\u001b[1;32m     16\u001b[0m     \u001b[0mprint\u001b[0m\u001b[0;34m(\u001b[0m\u001b[0;34m\"La calificacion debe ser entre 1 y 100\"\u001b[0m\u001b[0;34m)\u001b[0m\u001b[0;34m\u001b[0m\u001b[0;34m\u001b[0m\u001b[0m\n",
            "\u001b[0;32m<ipython-input-60-4468832dbf13>\u001b[0m in \u001b[0;36mcal\u001b[0;34m()\u001b[0m\n\u001b[1;32m      7\u001b[0m             \u001b[0;32mraise\u001b[0m\u001b[0;34m(\u001b[0m\u001b[0mTypeError\u001b[0m\u001b[0;34m)\u001b[0m\u001b[0;34m\u001b[0m\u001b[0;34m\u001b[0m\u001b[0m\n\u001b[1;32m      8\u001b[0m         \u001b[0mi\u001b[0m\u001b[0;34m+=\u001b[0m\u001b[0;36m1\u001b[0m\u001b[0;34m\u001b[0m\u001b[0;34m\u001b[0m\u001b[0m\n\u001b[0;32m----> 9\u001b[0;31m         \u001b[0msuma\u001b[0m \u001b[0;34m=\u001b[0m \u001b[0msuma\u001b[0m \u001b[0;34m+\u001b[0m \u001b[0mcal\u001b[0m\u001b[0;34m\u001b[0m\u001b[0;34m\u001b[0m\u001b[0m\n\u001b[0m\u001b[1;32m     10\u001b[0m \u001b[0;34m\u001b[0m\u001b[0m\n\u001b[1;32m     11\u001b[0m \u001b[0;34m\u001b[0m\u001b[0m\n",
            "\u001b[0;31mUnboundLocalError\u001b[0m: local variable 'suma' referenced before assignment"
          ]
        }
      ]
    }
  ]
}