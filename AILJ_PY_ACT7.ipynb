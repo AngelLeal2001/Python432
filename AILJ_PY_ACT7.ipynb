{
  "nbformat": 4,
  "nbformat_minor": 0,
  "metadata": {
    "colab": {
      "provenance": [],
      "authorship_tag": "ABX9TyMHOeVc0ERFMheuuW+Xt8D1",
      "include_colab_link": true
    },
    "kernelspec": {
      "name": "python3",
      "display_name": "Python 3"
    },
    "language_info": {
      "name": "python"
    }
  },
  "cells": [
    {
      "cell_type": "markdown",
      "metadata": {
        "id": "view-in-github",
        "colab_type": "text"
      },
      "source": [
        "<a href=\"https://colab.research.google.com/github/AngelLeal2001/Python432/blob/main/AILJ_PY_ACT7.ipynb\" target=\"_parent\"><img src=\"https://colab.research.google.com/assets/colab-badge.svg\" alt=\"Open In Colab\"/></a>"
      ]
    },
    {
      "cell_type": "markdown",
      "source": [
        "#A C T I V I D A D - 7\n",
        "LENGUAJE DE PROGRAMACION PYTHON\n",
        "\n",
        "Angel Ignacio Leal Juarez\n",
        "\n",
        "Fecha: 26 de Septiembre del 2023\n",
        "\n",
        "Github: https://github.com/AngelLeal2001/Python432.git"
      ],
      "metadata": {
        "id": "V9KS_XnlSgyw"
      }
    },
    {
      "cell_type": "code",
      "source": [
        "import random\n",
        "from IPython.display import clear_output"
      ],
      "metadata": {
        "id": "XGrj7GvvSyXQ"
      },
      "execution_count": null,
      "outputs": []
    },
    {
      "cell_type": "markdown",
      "source": [
        "1.- Función que utilice una lista con los nombres de tus mascotas, o artistas favoritos, (minimo 5, maximo 10) imprimir las cadenas y la cantidad de caracteres de cada cadena.  "
      ],
      "metadata": {
        "id": "jQK8HCqVSqqG"
      }
    },
    {
      "cell_type": "code",
      "source": [
        "def nombres():\n",
        "    lista = []\n",
        "    i=0;\n",
        "\n",
        "    lista.append(\"sisi\")\n",
        "    lista.append(\"riberito\")\n",
        "    lista.append(\"nita\")\n",
        "    lista.append(\"tolousse\")\n",
        "    lista.append(\"chulo\")\n",
        "    lista.append(\"reynolds\")\n",
        "    lista.append(\"kravitz\")\n",
        "    lista.append(\"chris\")\n",
        "    lista.append(\"larregui\")\n",
        "    lista.append(\"messi\")\n",
        "\n",
        "    while(i<10):\n",
        "        print(i,\".-\",lista[i], \"--->\", (len(lista[i])), \"caracteres\")\n",
        "        i+=1\n",
        "\n",
        "nombres()"
      ],
      "metadata": {
        "id": "25Rmn8yCPEMM",
        "colab": {
          "base_uri": "https://localhost:8080/"
        },
        "outputId": "a214e067-f854-4da0-aab7-85d5236f22d6"
      },
      "execution_count": null,
      "outputs": [
        {
          "output_type": "stream",
          "name": "stdout",
          "text": [
            "0 .- sisi ---> 4 caracteres\n",
            "1 .- riberito ---> 8 caracteres\n",
            "2 .- nita ---> 4 caracteres\n",
            "3 .- tolousse ---> 8 caracteres\n",
            "4 .- chulo ---> 5 caracteres\n",
            "5 .- reynolds ---> 8 caracteres\n",
            "6 .- kravitz ---> 7 caracteres\n",
            "7 .- chris ---> 5 caracteres\n",
            "8 .- larregui ---> 8 caracteres\n",
            "9 .- messi ---> 5 caracteres\n"
          ]
        }
      ]
    },
    {
      "cell_type": "markdown",
      "source": [
        "2.- Programa que utilice 2 funciones,\n",
        "\n",
        "Función que genere y regrese una lista con 10 números aleatorios entre el 30 y 50 (no repetidos).\n",
        "Función que reciba una lista , Imprimir la lista (Indice y Valor )"
      ],
      "metadata": {
        "id": "UFd8kZpuStYg"
      }
    },
    {
      "cell_type": "code",
      "source": [
        "def num_random_dif(lista_num=[], i=0, N = 10):\n",
        "    while i < N:\n",
        "        num = random.randint(30,50)\n",
        "\n",
        "        if num not in lista_num:\n",
        "            lista_num.append(num)\n",
        "            i+=1\n",
        "\n",
        "    return lista_num\n"
      ],
      "metadata": {
        "id": "JO7Xg7JqSfu_"
      },
      "execution_count": null,
      "outputs": []
    },
    {
      "cell_type": "code",
      "source": [
        "def imp_lista(i = 0, N = 10):\n",
        "\n",
        "    lista_num = num_random_dif()\n",
        "\n",
        "    while i < N:\n",
        "        print(i,\" .- \", lista_num[i])\n",
        "        i+=1\n",
        "\n",
        "imp_lista()"
      ],
      "metadata": {
        "colab": {
          "base_uri": "https://localhost:8080/"
        },
        "id": "UgdQQ7qsanm-",
        "outputId": "e4b41d9b-eb53-45ba-c4cf-e615c6b2d21f"
      },
      "execution_count": null,
      "outputs": [
        {
          "output_type": "stream",
          "name": "stdout",
          "text": [
            "0  .-  50\n",
            "1  .-  48\n",
            "2  .-  41\n",
            "3  .-  42\n",
            "4  .-  44\n",
            "5  .-  39\n",
            "6  .-  43\n",
            "7  .-  38\n",
            "8  .-  45\n",
            "9  .-  46\n"
          ]
        }
      ]
    },
    {
      "cell_type": "markdown",
      "source": [
        "3.- Escribe una función que reciba dos listas de números del mismo tamaño y calcule la suma de los elementos correspondientes de cada lista. (regresar una nueva lista) . Luego, muestra una lista con los resultados de cada suma. Nota: si las listas no son del mismo tamaño mandar msge y utilizar el tamaño de la lista mas pequeña)"
      ],
      "metadata": {
        "id": "RObeQYzUNfsU"
      }
    },
    {
      "cell_type": "code",
      "source": [
        "def suma_2_listas(lista1 = [], lista2 = [], suma_lista = [], i = 0, suma = 0):\n",
        "    while True:\n",
        "        try:\n",
        "            num=int(input(\"dame un numero para agregar a lista 1 (0.- fin lista): \"))\n",
        "\n",
        "            if num < 0:\n",
        "                raise (TypeError)\n",
        "\n",
        "            if num == 0:\n",
        "                break\n",
        "            else:\n",
        "                lista1.append(num)\n",
        "\n",
        "        except TypeError:\n",
        "            print(\"ERROR, no debe ser menor a 0\")\n",
        "            continue\n",
        "\n",
        "        except ValueError:\n",
        "            print(\"ERROR, debe de ser un numero entero\")\n",
        "            continue\n",
        "\n",
        "    clear_output()\n",
        "\n",
        "    while True:\n",
        "        try:\n",
        "            num=int(input(\"dame un numero para agregar a lista 2 (0.- fin lista): \"))\n",
        "\n",
        "            if num < 0:\n",
        "                raise (TypeError)\n",
        "\n",
        "            if num == 0:\n",
        "                break\n",
        "            else:\n",
        "                lista2.append(num)\n",
        "\n",
        "        except TypeError:\n",
        "            print(\"ERROR, no debe ser menor a 0\")\n",
        "            continue\n",
        "\n",
        "        except ValueError:\n",
        "            print(\"ERROR, debe de ser un numero entero\")\n",
        "            continue\n",
        "\n",
        "    clear_output()\n",
        "\n",
        "    print(lista1)\n",
        "    print(lista2)\n",
        "\n",
        "    tam1=len(lista1)\n",
        "    tam2=len(lista2)\n",
        "\n",
        "    print(\"\\n\")\n",
        "    if len(lista1) == len(lista2):\n",
        "        tam=tam1\n",
        "        print(\"AMBAS LISTAS SON DEL MISMO TAMAÑO\")\n",
        "        print(\"tamaño limite = \",tam)\n",
        "    else:\n",
        "        print(\"AMBAS LISTAS NO TIENEN EL MISMO TAMAÑO\")\n",
        "        if tam1 < tam2:\n",
        "            tam=tam1\n",
        "            print(\"Tamaño limite: lista 1 = \", tam)\n",
        "\n",
        "        else:\n",
        "            tam=tam2\n",
        "            print(\"Tamaño limite: lista 2 = \", tam)\n",
        "\n",
        "    print(\"\\n\")\n",
        "\n",
        "    while i < tam:\n",
        "        suma = lista1[i] + lista2[i]\n",
        "        suma_lista.append(suma)\n",
        "        i+=1\n",
        "    print(suma_lista)\n",
        "\n",
        "suma_2_listas()"
      ],
      "metadata": {
        "colab": {
          "base_uri": "https://localhost:8080/"
        },
        "id": "3OL85hFRNctc",
        "outputId": "e9176460-8231-43e9-e07f-cc1ff4301e8b"
      },
      "execution_count": null,
      "outputs": [
        {
          "output_type": "stream",
          "name": "stdout",
          "text": [
            "[1, 2, 3, 4, 5]\n",
            "[1, 2, 3]\n",
            "\n",
            "\n",
            "AMBAS LISTAS NO TIENEN EL MISMO TAMAÑO\n",
            "Tamaño limite: lista 2 =  3\n",
            "\n",
            "\n",
            "[2, 4, 6]\n"
          ]
        }
      ]
    },
    {
      "cell_type": "markdown",
      "source": [
        "4.- Escribe una función llamada eliminar_duplicados que reciba una lista como parámetro y elimine los elementos duplicados. El resultado debe ser una nueva lista sin duplicados. Pide al usuario que ingrese una lista y luego llama a la función eliminar_duplicados para mostrar la lista sin duplicados. (Solo Numeros enteros, validar)"
      ],
      "metadata": {
        "id": "PSA_bgGDfORW"
      }
    },
    {
      "cell_type": "code",
      "source": [
        "def no_duplicados():\n",
        "    lista_sr = []\n",
        "    lista_rep = []\n",
        "    while True:\n",
        "        try:\n",
        "            num=int(input(\"dame un numero para agregar a lista 1 (0.- fin lista): \"))\n",
        "\n",
        "            if num < 0:\n",
        "                raise (TypeError)\n",
        "\n",
        "            if num == 0:\n",
        "                break\n",
        "            else:\n",
        "                lista_rep.append(num)\n",
        "\n",
        "        except TypeError:\n",
        "            print(\"ERROR, no debe ser menor a 0\")\n",
        "            continue\n",
        "\n",
        "        except ValueError:\n",
        "            print(\"ERROR, debe de ser un numero entero\")\n",
        "            continue\n",
        "\n",
        "    print(\"lista con repetidos : \", lista_rep)\n",
        "\n",
        "    elim_rep(lista_rep)\n",
        "\n",
        "    print(\"lista sin repetidos : \", lista_sr)\n",
        "\n",
        "def elim_rep(lista_rep):\n",
        "    lista_sr= sorted(lista_rep)\n",
        "\n",
        "    print(\"lista sin repetidos : \", lista_sr)\n",
        "\n",
        "    return lista_sr\n",
        "\n",
        "no_duplicados()"
      ],
      "metadata": {
        "colab": {
          "base_uri": "https://localhost:8080/"
        },
        "id": "rpCLKlcnfQeE",
        "outputId": "5c8a2065-f80e-4ef8-86b8-a2da96963776"
      },
      "execution_count": 5,
      "outputs": [
        {
          "output_type": "stream",
          "name": "stdout",
          "text": [
            "dame un numero para agregar a lista 1 (0.- fin lista): 1\n",
            "dame un numero para agregar a lista 1 (0.- fin lista): 2\n",
            "dame un numero para agregar a lista 1 (0.- fin lista): 3\n",
            "dame un numero para agregar a lista 1 (0.- fin lista): 2\n",
            "dame un numero para agregar a lista 1 (0.- fin lista): 0\n",
            "lista con repetidos :  [1, 2, 3, 2]\n",
            "lista sin repetidos :  [1, 2, 2, 3]\n",
            "lista sin repetidos :  []\n"
          ]
        }
      ]
    }
  ]
}